{
 "cells": [
  {
   "cell_type": "code",
   "execution_count": null,
   "id": "c1bf7e63",
   "metadata": {},
   "outputs": [],
   "source": [
    "import torch\n",
    "from torch import nn\n",
    "\n",
    "from _models import (\n",
    "    CoordinateCNN,\n",
    "    CoordinateDataset,\n",
    "    create_data_loaders,\n",
    "    evaluate_model,\n",
    "    plot_training_history,\n",
    "    train_and_validate,\n",
    ")\n",
    "\n",
    "# Check if GPU is available\n",
    "device = torch.device(\"cuda:0\" if torch.cuda.is_available() else \"cpu\")\n",
    "\n",
    "# Create dataset and dataloader\n",
    "dataset: CoordinateDataset = CoordinateDataset(\"./train\")"
   ]
  },
  {
   "cell_type": "code",
   "execution_count": null,
   "id": "469338fd",
   "metadata": {},
   "outputs": [],
   "source": [
    "from torch.utils.data import DataLoader\n",
    "\n",
    "# Create data loaders with train-test split\n",
    "# train_loader, val_loader, test_loader = create_data_loaders(dataset)\n",
    "\n",
    "\n",
    "testDataset: CoordinateDataset = CoordinateDataset(\"./testImages\")\n",
    "valDataset: CoordinateDataset = CoordinateDataset(\"./val\")\n",
    "\n",
    "train_loader: DataLoader = DataLoader(dataset, batch_size=32, shuffle=True)\n",
    "val_loader: DataLoader = DataLoader(valDataset, batch_size=32, shuffle=True)\n",
    "test_loader: DataLoader = DataLoader(testDataset, batch_size=32, shuffle=True)\n",
    "\n",
    "\n",
    "# Initialize model\n",
    "model = CoordinateCNN().to(device)\n",
    "\n",
    "# Define loss function and optimizer\n",
    "criterion = nn.MSELoss()\n",
    "optimizer = torch.optim.Adam(model.parameters())\n",
    "\n",
    "# Train and validate the model\n",
    "history = train_and_validate(\n",
    "    device,\n",
    "    model,\n",
    "    train_loader,\n",
    "    val_loader,\n",
    "    criterion,\n",
    "    optimizer,\n",
    "    num_epochs=200,\n",
    "    patience=20,\n",
    ")"
   ]
  },
  {
   "cell_type": "code",
   "execution_count": null,
   "id": "53da0f43",
   "metadata": {},
   "outputs": [],
   "source": [
    "# Plot training history\n",
    "plot_training_history(history)\n",
    "\n",
    "# Evaluate on test set\n",
    "test_loss = evaluate_model(device, model, test_loader, criterion)\n",
    "\n",
    "print(\"Training completed!\")\n",
    "print(f\"Best validation loss: {min(history['val_loss']):.6f}\")\n",
    "print(f\"Final test loss: {test_loss:.6f}\")"
   ]
  }
 ],
 "metadata": {
  "kernelspec": {
   "display_name": "Python 3",
   "language": "python",
   "name": "python3"
  },
  "language_info": {
   "codemirror_mode": {
    "name": "ipython",
    "version": 3
   },
   "file_extension": ".py",
   "mimetype": "text/x-python",
   "name": "python",
   "nbconvert_exporter": "python",
   "pygments_lexer": "ipython3",
   "version": "3.12.9"
  }
 },
 "nbformat": 4,
 "nbformat_minor": 5
}
