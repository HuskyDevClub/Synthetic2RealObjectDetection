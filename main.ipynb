{
 "cells": [
  {
   "cell_type": "code",
   "execution_count": null,
   "id": "c1bf7e63",
   "metadata": {},
   "outputs": [
    {
     "name": "stdout",
     "output_type": "stream",
     "text": [
      "Label file train/plants/labels/000000175.txt does not exist.\n",
      "Label file train/plants/labels/000000174.txt does not exist.\n",
      "Error reading train/plants/labels/000000160.txt: could not convert string to float: ''\n",
      "Label file train/plants/labels/000000148.txt does not exist.\n",
      "Label file train/plants/labels/000000147.txt does not exist.\n",
      "Error reading train/plants/labels/000000135.txt: could not convert string to float: ''\n",
      "Error reading train/plants/labels/000000112.txt: could not convert string to float: ''\n",
      "Error reading train/plants/labels/000000056.txt: could not convert string to float: ''\n",
      "Error reading train/furniture/labels/0000000391.txt: could not convert string to float: ''\n",
      "Error reading train/furniture/labels/0000000381.txt: could not convert string to float: ''\n",
      "Error reading train/furniture/labels/00000003311.txt: could not convert string to float: ''\n",
      "Label file train/coolLighting/labels/0000000351.txt does not exist.\n",
      "Error reading train/cameraDistance/labels/000000024.txt: could not convert string to float: ''\n"
     ]
    }
   ],
   "source": [
    "import torch\n",
    "from torch import nn\n",
    "from torchvision import transforms\n",
    "\n",
    "from _models import (\n",
    "    CoordinateCNN,\n",
    "    CoordinateDataset,\n",
    "    create_data_loaders,\n",
    "    evaluate_model,\n",
    "    plot_training_history,\n",
    "    train_and_validate,\n",
    ")\n",
    "\n",
    "# Check if GPU is available\n",
    "device = torch.device(\"cuda:0\" if torch.cuda.is_available() else \"cpu\")\n",
    "\n",
    "# Define transformations (without normalization for images)\n",
    "transform: transforms.Compose = transforms.Compose(\n",
    "    [\n",
    "        transforms.Resize((256, 256)),\n",
    "        transforms.ToTensor(),\n",
    "    ]\n",
    ")\n",
    "\n",
    "# Create dataset and dataloader\n",
    "dataset: CoordinateDataset = CoordinateDataset(\"./train\", transform)"
   ]
  },
  {
   "cell_type": "code",
   "execution_count": 2,
   "id": "469338fd",
   "metadata": {},
   "outputs": [
    {
     "name": "stdout",
     "output_type": "stream",
     "text": [
      "Dataset split: Train=859, Validation=95, Test=238\n"
     ]
    },
    {
     "name": "stderr",
     "output_type": "stream",
     "text": [
      "Epoch 1/200 [Train]: 100%|██████████| 27/27 [00:08<00:00,  3.32it/s, loss=0.108] \n",
      "Epoch 1/200 [Val]: 100%|██████████| 3/3 [00:01<00:00,  2.35it/s, loss=0.0337]\n"
     ]
    },
    {
     "name": "stdout",
     "output_type": "stream",
     "text": [
      "Epoch 1/200 - Train Loss: 61.941437, Val Loss: 0.036006\n",
      "Validation loss decreased (inf --> 0.036006).  Saving model ...\n"
     ]
    },
    {
     "name": "stderr",
     "output_type": "stream",
     "text": [
      "Epoch 2/200 [Train]: 100%|██████████| 27/27 [00:08<00:00,  3.27it/s, loss=0.0317]\n",
      "Epoch 2/200 [Val]: 100%|██████████| 3/3 [00:01<00:00,  2.39it/s, loss=0.0171]\n"
     ]
    },
    {
     "name": "stdout",
     "output_type": "stream",
     "text": [
      "Epoch 2/200 - Train Loss: 0.048624, Val Loss: 0.019039\n",
      "Validation loss decreased (0.036006 --> 0.019039).  Saving model ...\n"
     ]
    },
    {
     "name": "stderr",
     "output_type": "stream",
     "text": [
      "Epoch 3/200 [Train]: 100%|██████████| 27/27 [00:08<00:00,  3.20it/s, loss=0.031] \n",
      "Epoch 3/200 [Val]: 100%|██████████| 3/3 [00:01<00:00,  2.41it/s, loss=0.0145]\n"
     ]
    },
    {
     "name": "stdout",
     "output_type": "stream",
     "text": [
      "Epoch 3/200 - Train Loss: 0.028548, Val Loss: 0.015475\n",
      "Validation loss decreased (0.019039 --> 0.015475).  Saving model ...\n"
     ]
    },
    {
     "name": "stderr",
     "output_type": "stream",
     "text": [
      "Epoch 4/200 [Train]: 100%|██████████| 27/27 [00:08<00:00,  3.21it/s, loss=0.0205]\n",
      "Epoch 4/200 [Val]: 100%|██████████| 3/3 [00:01<00:00,  2.41it/s, loss=0.0145]\n"
     ]
    },
    {
     "name": "stdout",
     "output_type": "stream",
     "text": [
      "Epoch 4/200 - Train Loss: 0.023006, Val Loss: 0.014198\n",
      "Validation loss decreased (0.015475 --> 0.014198).  Saving model ...\n"
     ]
    },
    {
     "name": "stderr",
     "output_type": "stream",
     "text": [
      "Epoch 5/200 [Train]: 100%|██████████| 27/27 [00:08<00:00,  3.26it/s, loss=0.0161]\n",
      "Epoch 5/200 [Val]: 100%|██████████| 3/3 [00:01<00:00,  2.39it/s, loss=0.0163]\n"
     ]
    },
    {
     "name": "stdout",
     "output_type": "stream",
     "text": [
      "Epoch 5/200 - Train Loss: 0.020055, Val Loss: 0.015923\n",
      "EarlyStopping counter: 1 out of 20\n"
     ]
    },
    {
     "name": "stderr",
     "output_type": "stream",
     "text": [
      "Epoch 6/200 [Train]: 100%|██████████| 27/27 [00:08<00:00,  3.22it/s, loss=0.0135]\n",
      "Epoch 6/200 [Val]: 100%|██████████| 3/3 [00:01<00:00,  2.38it/s, loss=0.0133] \n"
     ]
    },
    {
     "name": "stdout",
     "output_type": "stream",
     "text": [
      "Epoch 6/200 - Train Loss: 0.017249, Val Loss: 0.012965\n",
      "Validation loss decreased (0.014198 --> 0.012965).  Saving model ...\n"
     ]
    },
    {
     "name": "stderr",
     "output_type": "stream",
     "text": [
      "Epoch 7/200 [Train]: 100%|██████████| 27/27 [00:08<00:00,  3.23it/s, loss=0.0218]\n",
      "Epoch 7/200 [Val]: 100%|██████████| 3/3 [00:01<00:00,  2.35it/s, loss=0.014]  \n"
     ]
    },
    {
     "name": "stdout",
     "output_type": "stream",
     "text": [
      "Epoch 7/200 - Train Loss: 0.016182, Val Loss: 0.013334\n",
      "EarlyStopping counter: 1 out of 20\n"
     ]
    },
    {
     "name": "stderr",
     "output_type": "stream",
     "text": [
      "Epoch 8/200 [Train]: 100%|██████████| 27/27 [00:08<00:00,  3.26it/s, loss=0.0115]\n",
      "Epoch 8/200 [Val]: 100%|██████████| 3/3 [00:01<00:00,  2.37it/s, loss=0.0135] \n"
     ]
    },
    {
     "name": "stdout",
     "output_type": "stream",
     "text": [
      "Epoch 8/200 - Train Loss: 0.015179, Val Loss: 0.013016\n",
      "EarlyStopping counter: 2 out of 20\n"
     ]
    },
    {
     "name": "stderr",
     "output_type": "stream",
     "text": [
      "Epoch 9/200 [Train]: 100%|██████████| 27/27 [00:08<00:00,  3.30it/s, loss=0.0114] \n",
      "Epoch 9/200 [Val]: 100%|██████████| 3/3 [00:01<00:00,  2.38it/s, loss=0.0111] \n"
     ]
    },
    {
     "name": "stdout",
     "output_type": "stream",
     "text": [
      "Epoch 9/200 - Train Loss: 0.013540, Val Loss: 0.010447\n",
      "Validation loss decreased (0.012965 --> 0.010447).  Saving model ...\n"
     ]
    },
    {
     "name": "stderr",
     "output_type": "stream",
     "text": [
      "Epoch 10/200 [Train]: 100%|██████████| 27/27 [00:08<00:00,  3.27it/s, loss=0.018]  \n",
      "Epoch 10/200 [Val]: 100%|██████████| 3/3 [00:01<00:00,  2.37it/s, loss=0.0115] \n"
     ]
    },
    {
     "name": "stdout",
     "output_type": "stream",
     "text": [
      "Epoch 10/200 - Train Loss: 0.012308, Val Loss: 0.011354\n",
      "EarlyStopping counter: 1 out of 20\n"
     ]
    },
    {
     "name": "stderr",
     "output_type": "stream",
     "text": [
      "Epoch 11/200 [Train]: 100%|██████████| 27/27 [00:08<00:00,  3.23it/s, loss=0.0129] \n",
      "Epoch 11/200 [Val]: 100%|██████████| 3/3 [00:01<00:00,  2.40it/s, loss=0.01]   \n"
     ]
    },
    {
     "name": "stdout",
     "output_type": "stream",
     "text": [
      "Epoch 11/200 - Train Loss: 0.011873, Val Loss: 0.009557\n",
      "Validation loss decreased (0.010447 --> 0.009557).  Saving model ...\n"
     ]
    },
    {
     "name": "stderr",
     "output_type": "stream",
     "text": [
      "Epoch 12/200 [Train]: 100%|██████████| 27/27 [00:08<00:00,  3.26it/s, loss=0.0135] \n",
      "Epoch 12/200 [Val]: 100%|██████████| 3/3 [00:01<00:00,  2.39it/s, loss=0.0106]\n"
     ]
    },
    {
     "name": "stdout",
     "output_type": "stream",
     "text": [
      "Epoch 12/200 - Train Loss: 0.010899, Val Loss: 0.009643\n",
      "EarlyStopping counter: 1 out of 20\n"
     ]
    },
    {
     "name": "stderr",
     "output_type": "stream",
     "text": [
      "Epoch 13/200 [Train]: 100%|██████████| 27/27 [00:08<00:00,  3.22it/s, loss=0.00555]\n",
      "Epoch 13/200 [Val]: 100%|██████████| 3/3 [00:01<00:00,  2.35it/s, loss=0.0106] \n"
     ]
    },
    {
     "name": "stdout",
     "output_type": "stream",
     "text": [
      "Epoch 13/200 - Train Loss: 0.009681, Val Loss: 0.009382\n",
      "Validation loss decreased (0.009557 --> 0.009382).  Saving model ...\n"
     ]
    },
    {
     "name": "stderr",
     "output_type": "stream",
     "text": [
      "Epoch 14/200 [Train]: 100%|██████████| 27/27 [00:08<00:00,  3.25it/s, loss=0.0111] \n",
      "Epoch 14/200 [Val]: 100%|██████████| 3/3 [00:01<00:00,  2.40it/s, loss=0.00858]\n"
     ]
    },
    {
     "name": "stdout",
     "output_type": "stream",
     "text": [
      "Epoch 14/200 - Train Loss: 0.009525, Val Loss: 0.007821\n",
      "Validation loss decreased (0.009382 --> 0.007821).  Saving model ...\n"
     ]
    },
    {
     "name": "stderr",
     "output_type": "stream",
     "text": [
      "Epoch 15/200 [Train]: 100%|██████████| 27/27 [00:08<00:00,  3.22it/s, loss=0.00488]\n",
      "Epoch 15/200 [Val]: 100%|██████████| 3/3 [00:01<00:00,  2.37it/s, loss=0.00846]\n"
     ]
    },
    {
     "name": "stdout",
     "output_type": "stream",
     "text": [
      "Epoch 15/200 - Train Loss: 0.009347, Val Loss: 0.007936\n",
      "EarlyStopping counter: 1 out of 20\n"
     ]
    },
    {
     "name": "stderr",
     "output_type": "stream",
     "text": [
      "Epoch 16/200 [Train]: 100%|██████████| 27/27 [00:08<00:00,  3.23it/s, loss=0.00596]\n",
      "Epoch 16/200 [Val]: 100%|██████████| 3/3 [00:01<00:00,  2.41it/s, loss=0.00899]\n"
     ]
    },
    {
     "name": "stdout",
     "output_type": "stream",
     "text": [
      "Epoch 16/200 - Train Loss: 0.008332, Val Loss: 0.008110\n",
      "EarlyStopping counter: 2 out of 20\n"
     ]
    },
    {
     "name": "stderr",
     "output_type": "stream",
     "text": [
      "Epoch 17/200 [Train]: 100%|██████████| 27/27 [00:08<00:00,  3.25it/s, loss=0.00615]\n",
      "Epoch 17/200 [Val]: 100%|██████████| 3/3 [00:01<00:00,  2.36it/s, loss=0.00818]\n"
     ]
    },
    {
     "name": "stdout",
     "output_type": "stream",
     "text": [
      "Epoch 17/200 - Train Loss: 0.007757, Val Loss: 0.007329\n",
      "Validation loss decreased (0.007821 --> 0.007329).  Saving model ...\n"
     ]
    },
    {
     "name": "stderr",
     "output_type": "stream",
     "text": [
      "Epoch 18/200 [Train]: 100%|██████████| 27/27 [00:08<00:00,  3.32it/s, loss=0.00792]\n",
      "Epoch 18/200 [Val]: 100%|██████████| 3/3 [00:01<00:00,  2.41it/s, loss=0.00849]\n"
     ]
    },
    {
     "name": "stdout",
     "output_type": "stream",
     "text": [
      "Epoch 18/200 - Train Loss: 0.007228, Val Loss: 0.007919\n",
      "EarlyStopping counter: 1 out of 20\n"
     ]
    },
    {
     "name": "stderr",
     "output_type": "stream",
     "text": [
      "Epoch 19/200 [Train]: 100%|██████████| 27/27 [00:08<00:00,  3.31it/s, loss=0.0054] \n",
      "Epoch 19/200 [Val]: 100%|██████████| 3/3 [00:01<00:00,  2.35it/s, loss=0.00808]\n"
     ]
    },
    {
     "name": "stdout",
     "output_type": "stream",
     "text": [
      "Epoch 19/200 - Train Loss: 0.006988, Val Loss: 0.007521\n",
      "EarlyStopping counter: 2 out of 20\n"
     ]
    },
    {
     "name": "stderr",
     "output_type": "stream",
     "text": [
      "Epoch 20/200 [Train]: 100%|██████████| 27/27 [00:08<00:00,  3.29it/s, loss=0.00652]\n",
      "Epoch 20/200 [Val]: 100%|██████████| 3/3 [00:01<00:00,  2.42it/s, loss=0.00748]\n"
     ]
    },
    {
     "name": "stdout",
     "output_type": "stream",
     "text": [
      "Epoch 20/200 - Train Loss: 0.006503, Val Loss: 0.006673\n",
      "Validation loss decreased (0.007329 --> 0.006673).  Saving model ...\n"
     ]
    },
    {
     "name": "stderr",
     "output_type": "stream",
     "text": [
      "Epoch 21/200 [Train]: 100%|██████████| 27/27 [00:08<00:00,  3.18it/s, loss=0.00757]\n",
      "Epoch 21/200 [Val]: 100%|██████████| 3/3 [00:01<00:00,  2.45it/s, loss=0.00749]\n"
     ]
    },
    {
     "name": "stdout",
     "output_type": "stream",
     "text": [
      "Epoch 21/200 - Train Loss: 0.006476, Val Loss: 0.007215\n",
      "EarlyStopping counter: 1 out of 20\n"
     ]
    },
    {
     "name": "stderr",
     "output_type": "stream",
     "text": [
      "Epoch 22/200 [Train]: 100%|██████████| 27/27 [00:08<00:00,  3.32it/s, loss=0.00497]\n",
      "Epoch 22/200 [Val]: 100%|██████████| 3/3 [00:01<00:00,  2.37it/s, loss=0.00743]\n"
     ]
    },
    {
     "name": "stdout",
     "output_type": "stream",
     "text": [
      "Epoch 22/200 - Train Loss: 0.006588, Val Loss: 0.006669\n",
      "Validation loss decreased (0.006673 --> 0.006669).  Saving model ...\n"
     ]
    },
    {
     "name": "stderr",
     "output_type": "stream",
     "text": [
      "Epoch 23/200 [Train]: 100%|██████████| 27/27 [00:08<00:00,  3.27it/s, loss=0.00539]\n",
      "Epoch 23/200 [Val]: 100%|██████████| 3/3 [00:01<00:00,  2.42it/s, loss=0.00728]\n"
     ]
    },
    {
     "name": "stdout",
     "output_type": "stream",
     "text": [
      "Epoch 23/200 - Train Loss: 0.005890, Val Loss: 0.006686\n",
      "EarlyStopping counter: 1 out of 20\n"
     ]
    },
    {
     "name": "stderr",
     "output_type": "stream",
     "text": [
      "Epoch 24/200 [Train]: 100%|██████████| 27/27 [00:08<00:00,  3.24it/s, loss=0.0059] \n",
      "Epoch 24/200 [Val]: 100%|██████████| 3/3 [00:01<00:00,  2.39it/s, loss=0.00719]\n"
     ]
    },
    {
     "name": "stdout",
     "output_type": "stream",
     "text": [
      "Epoch 24/200 - Train Loss: 0.005621, Val Loss: 0.006963\n",
      "EarlyStopping counter: 2 out of 20\n"
     ]
    },
    {
     "name": "stderr",
     "output_type": "stream",
     "text": [
      "Epoch 25/200 [Train]: 100%|██████████| 27/27 [00:08<00:00,  3.29it/s, loss=0.00424]\n",
      "Epoch 25/200 [Val]: 100%|██████████| 3/3 [00:01<00:00,  2.42it/s, loss=0.0067] \n"
     ]
    },
    {
     "name": "stdout",
     "output_type": "stream",
     "text": [
      "Epoch 25/200 - Train Loss: 0.005042, Val Loss: 0.006129\n",
      "Validation loss decreased (0.006669 --> 0.006129).  Saving model ...\n"
     ]
    },
    {
     "name": "stderr",
     "output_type": "stream",
     "text": [
      "Epoch 26/200 [Train]: 100%|██████████| 27/27 [00:08<00:00,  3.31it/s, loss=0.00454]\n",
      "Epoch 26/200 [Val]: 100%|██████████| 3/3 [00:01<00:00,  2.41it/s, loss=0.00776]\n"
     ]
    },
    {
     "name": "stdout",
     "output_type": "stream",
     "text": [
      "Epoch 26/200 - Train Loss: 0.005231, Val Loss: 0.007163\n",
      "EarlyStopping counter: 1 out of 20\n"
     ]
    },
    {
     "name": "stderr",
     "output_type": "stream",
     "text": [
      "Epoch 27/200 [Train]: 100%|██████████| 27/27 [00:08<00:00,  3.33it/s, loss=0.00526]\n",
      "Epoch 27/200 [Val]: 100%|██████████| 3/3 [00:01<00:00,  2.43it/s, loss=0.00643]\n"
     ]
    },
    {
     "name": "stdout",
     "output_type": "stream",
     "text": [
      "Epoch 27/200 - Train Loss: 0.005147, Val Loss: 0.006190\n",
      "EarlyStopping counter: 2 out of 20\n"
     ]
    },
    {
     "name": "stderr",
     "output_type": "stream",
     "text": [
      "Epoch 28/200 [Train]: 100%|██████████| 27/27 [00:08<00:00,  3.21it/s, loss=0.00341]\n",
      "Epoch 28/200 [Val]: 100%|██████████| 3/3 [00:01<00:00,  2.42it/s, loss=0.00671]\n"
     ]
    },
    {
     "name": "stdout",
     "output_type": "stream",
     "text": [
      "Epoch 28/200 - Train Loss: 0.004759, Val Loss: 0.006353\n",
      "EarlyStopping counter: 3 out of 20\n"
     ]
    },
    {
     "name": "stderr",
     "output_type": "stream",
     "text": [
      "Epoch 29/200 [Train]: 100%|██████████| 27/27 [00:08<00:00,  3.34it/s, loss=0.00523]\n",
      "Epoch 29/200 [Val]: 100%|██████████| 3/3 [00:01<00:00,  2.37it/s, loss=0.00668]\n"
     ]
    },
    {
     "name": "stdout",
     "output_type": "stream",
     "text": [
      "Epoch 29/200 - Train Loss: 0.004775, Val Loss: 0.006073\n",
      "Validation loss decreased (0.006129 --> 0.006073).  Saving model ...\n"
     ]
    },
    {
     "name": "stderr",
     "output_type": "stream",
     "text": [
      "Epoch 30/200 [Train]: 100%|██████████| 27/27 [00:08<00:00,  3.33it/s, loss=0.00304]\n",
      "Epoch 30/200 [Val]: 100%|██████████| 3/3 [00:01<00:00,  2.42it/s, loss=0.00625]\n"
     ]
    },
    {
     "name": "stdout",
     "output_type": "stream",
     "text": [
      "Epoch 30/200 - Train Loss: 0.004571, Val Loss: 0.005968\n",
      "Validation loss decreased (0.006073 --> 0.005968).  Saving model ...\n"
     ]
    },
    {
     "name": "stderr",
     "output_type": "stream",
     "text": [
      "Epoch 31/200 [Train]: 100%|██████████| 27/27 [00:08<00:00,  3.29it/s, loss=0.00413]\n",
      "Epoch 31/200 [Val]: 100%|██████████| 3/3 [00:01<00:00,  2.42it/s, loss=0.00687]\n"
     ]
    },
    {
     "name": "stdout",
     "output_type": "stream",
     "text": [
      "Epoch 31/200 - Train Loss: 0.004580, Val Loss: 0.006346\n",
      "EarlyStopping counter: 1 out of 20\n"
     ]
    },
    {
     "name": "stderr",
     "output_type": "stream",
     "text": [
      "Epoch 32/200 [Train]: 100%|██████████| 27/27 [00:08<00:00,  3.26it/s, loss=0.00524]\n",
      "Epoch 32/200 [Val]: 100%|██████████| 3/3 [00:01<00:00,  2.43it/s, loss=0.00718]\n"
     ]
    },
    {
     "name": "stdout",
     "output_type": "stream",
     "text": [
      "Epoch 32/200 - Train Loss: 0.004293, Val Loss: 0.006456\n",
      "EarlyStopping counter: 2 out of 20\n"
     ]
    },
    {
     "name": "stderr",
     "output_type": "stream",
     "text": [
      "Epoch 33/200 [Train]: 100%|██████████| 27/27 [00:08<00:00,  3.20it/s, loss=0.004]  \n",
      "Epoch 33/200 [Val]: 100%|██████████| 3/3 [00:01<00:00,  2.36it/s, loss=0.00662]\n"
     ]
    },
    {
     "name": "stdout",
     "output_type": "stream",
     "text": [
      "Epoch 33/200 - Train Loss: 0.004130, Val Loss: 0.005846\n",
      "Validation loss decreased (0.005968 --> 0.005846).  Saving model ...\n"
     ]
    },
    {
     "name": "stderr",
     "output_type": "stream",
     "text": [
      "Epoch 34/200 [Train]: 100%|██████████| 27/27 [00:08<00:00,  3.30it/s, loss=0.00487]\n",
      "Epoch 34/200 [Val]: 100%|██████████| 3/3 [00:01<00:00,  2.44it/s, loss=0.00679]\n"
     ]
    },
    {
     "name": "stdout",
     "output_type": "stream",
     "text": [
      "Epoch 34/200 - Train Loss: 0.003898, Val Loss: 0.006142\n",
      "EarlyStopping counter: 1 out of 20\n"
     ]
    },
    {
     "name": "stderr",
     "output_type": "stream",
     "text": [
      "Epoch 35/200 [Train]: 100%|██████████| 27/27 [00:08<00:00,  3.29it/s, loss=0.00313]\n",
      "Epoch 35/200 [Val]: 100%|██████████| 3/3 [00:01<00:00,  2.30it/s, loss=0.00654]\n"
     ]
    },
    {
     "name": "stdout",
     "output_type": "stream",
     "text": [
      "Epoch 35/200 - Train Loss: 0.003737, Val Loss: 0.005938\n",
      "EarlyStopping counter: 2 out of 20\n"
     ]
    },
    {
     "name": "stderr",
     "output_type": "stream",
     "text": [
      "Epoch 36/200 [Train]: 100%|██████████| 27/27 [00:08<00:00,  3.25it/s, loss=0.00269]\n",
      "Epoch 36/200 [Val]: 100%|██████████| 3/3 [00:01<00:00,  2.40it/s, loss=0.00672]\n"
     ]
    },
    {
     "name": "stdout",
     "output_type": "stream",
     "text": [
      "Epoch 36/200 - Train Loss: 0.003945, Val Loss: 0.006018\n",
      "EarlyStopping counter: 3 out of 20\n"
     ]
    },
    {
     "name": "stderr",
     "output_type": "stream",
     "text": [
      "Epoch 37/200 [Train]: 100%|██████████| 27/27 [00:08<00:00,  3.25it/s, loss=0.00532]\n",
      "Epoch 37/200 [Val]: 100%|██████████| 3/3 [00:01<00:00,  2.43it/s, loss=0.00654]\n"
     ]
    },
    {
     "name": "stdout",
     "output_type": "stream",
     "text": [
      "Epoch 37/200 - Train Loss: 0.003516, Val Loss: 0.005807\n",
      "Validation loss decreased (0.005846 --> 0.005807).  Saving model ...\n"
     ]
    },
    {
     "name": "stderr",
     "output_type": "stream",
     "text": [
      "Epoch 38/200 [Train]: 100%|██████████| 27/27 [00:08<00:00,  3.28it/s, loss=0.00463]\n",
      "Epoch 38/200 [Val]: 100%|██████████| 3/3 [00:01<00:00,  2.38it/s, loss=0.00715]\n"
     ]
    },
    {
     "name": "stdout",
     "output_type": "stream",
     "text": [
      "Epoch 38/200 - Train Loss: 0.003480, Val Loss: 0.006445\n",
      "EarlyStopping counter: 1 out of 20\n"
     ]
    },
    {
     "name": "stderr",
     "output_type": "stream",
     "text": [
      "Epoch 39/200 [Train]: 100%|██████████| 27/27 [00:08<00:00,  3.25it/s, loss=0.00294]\n",
      "Epoch 39/200 [Val]: 100%|██████████| 3/3 [00:01<00:00,  2.37it/s, loss=0.00631]\n"
     ]
    },
    {
     "name": "stdout",
     "output_type": "stream",
     "text": [
      "Epoch 39/200 - Train Loss: 0.003397, Val Loss: 0.005895\n",
      "EarlyStopping counter: 2 out of 20\n"
     ]
    },
    {
     "name": "stderr",
     "output_type": "stream",
     "text": [
      "Epoch 40/200 [Train]: 100%|██████████| 27/27 [00:08<00:00,  3.27it/s, loss=0.00648]\n",
      "Epoch 40/200 [Val]: 100%|██████████| 3/3 [00:01<00:00,  2.29it/s, loss=0.00619]\n"
     ]
    },
    {
     "name": "stdout",
     "output_type": "stream",
     "text": [
      "Epoch 40/200 - Train Loss: 0.003732, Val Loss: 0.005978\n",
      "EarlyStopping counter: 3 out of 20\n"
     ]
    },
    {
     "name": "stderr",
     "output_type": "stream",
     "text": [
      "Epoch 41/200 [Train]: 100%|██████████| 27/27 [00:08<00:00,  3.24it/s, loss=0.00298]\n",
      "Epoch 41/200 [Val]: 100%|██████████| 3/3 [00:01<00:00,  2.37it/s, loss=0.00614]\n"
     ]
    },
    {
     "name": "stdout",
     "output_type": "stream",
     "text": [
      "Epoch 41/200 - Train Loss: 0.003414, Val Loss: 0.005845\n",
      "EarlyStopping counter: 4 out of 20\n"
     ]
    },
    {
     "name": "stderr",
     "output_type": "stream",
     "text": [
      "Epoch 42/200 [Train]: 100%|██████████| 27/27 [00:08<00:00,  3.19it/s, loss=0.00256]\n",
      "Epoch 42/200 [Val]: 100%|██████████| 3/3 [00:01<00:00,  2.35it/s, loss=0.00593]\n"
     ]
    },
    {
     "name": "stdout",
     "output_type": "stream",
     "text": [
      "Epoch 42/200 - Train Loss: 0.003312, Val Loss: 0.005599\n",
      "Validation loss decreased (0.005807 --> 0.005599).  Saving model ...\n"
     ]
    },
    {
     "name": "stderr",
     "output_type": "stream",
     "text": [
      "Epoch 43/200 [Train]: 100%|██████████| 27/27 [00:08<00:00,  3.25it/s, loss=0.00288]\n",
      "Epoch 43/200 [Val]: 100%|██████████| 3/3 [00:01<00:00,  2.32it/s, loss=0.0067] \n"
     ]
    },
    {
     "name": "stdout",
     "output_type": "stream",
     "text": [
      "Epoch 43/200 - Train Loss: 0.003035, Val Loss: 0.006065\n",
      "EarlyStopping counter: 1 out of 20\n"
     ]
    },
    {
     "name": "stderr",
     "output_type": "stream",
     "text": [
      "Epoch 44/200 [Train]: 100%|██████████| 27/27 [00:08<00:00,  3.26it/s, loss=0.0027] \n",
      "Epoch 44/200 [Val]: 100%|██████████| 3/3 [00:01<00:00,  2.34it/s, loss=0.00682]\n"
     ]
    },
    {
     "name": "stdout",
     "output_type": "stream",
     "text": [
      "Epoch 44/200 - Train Loss: 0.003031, Val Loss: 0.005929\n",
      "EarlyStopping counter: 2 out of 20\n"
     ]
    },
    {
     "name": "stderr",
     "output_type": "stream",
     "text": [
      "Epoch 45/200 [Train]: 100%|██████████| 27/27 [00:08<00:00,  3.22it/s, loss=0.00475]\n",
      "Epoch 45/200 [Val]: 100%|██████████| 3/3 [00:01<00:00,  2.41it/s, loss=0.00674]\n"
     ]
    },
    {
     "name": "stdout",
     "output_type": "stream",
     "text": [
      "Epoch 45/200 - Train Loss: 0.003097, Val Loss: 0.005988\n",
      "EarlyStopping counter: 3 out of 20\n"
     ]
    },
    {
     "name": "stderr",
     "output_type": "stream",
     "text": [
      "Epoch 46/200 [Train]: 100%|██████████| 27/27 [00:08<00:00,  3.23it/s, loss=0.00322]\n",
      "Epoch 46/200 [Val]: 100%|██████████| 3/3 [00:01<00:00,  2.41it/s, loss=0.00672]\n"
     ]
    },
    {
     "name": "stdout",
     "output_type": "stream",
     "text": [
      "Epoch 46/200 - Train Loss: 0.003048, Val Loss: 0.006108\n",
      "EarlyStopping counter: 4 out of 20\n"
     ]
    },
    {
     "name": "stderr",
     "output_type": "stream",
     "text": [
      "Epoch 47/200 [Train]: 100%|██████████| 27/27 [00:08<00:00,  3.26it/s, loss=0.00358]\n",
      "Epoch 47/200 [Val]: 100%|██████████| 3/3 [00:01<00:00,  2.37it/s, loss=0.00685]\n"
     ]
    },
    {
     "name": "stdout",
     "output_type": "stream",
     "text": [
      "Epoch 47/200 - Train Loss: 0.002953, Val Loss: 0.006032\n",
      "EarlyStopping counter: 5 out of 20\n"
     ]
    },
    {
     "name": "stderr",
     "output_type": "stream",
     "text": [
      "Epoch 48/200 [Train]: 100%|██████████| 27/27 [00:08<00:00,  3.30it/s, loss=0.00383]\n",
      "Epoch 48/200 [Val]: 100%|██████████| 3/3 [00:01<00:00,  2.37it/s, loss=0.00541]\n"
     ]
    },
    {
     "name": "stdout",
     "output_type": "stream",
     "text": [
      "Epoch 48/200 - Train Loss: 0.003639, Val Loss: 0.005161\n",
      "Validation loss decreased (0.005599 --> 0.005161).  Saving model ...\n"
     ]
    },
    {
     "name": "stderr",
     "output_type": "stream",
     "text": [
      "Epoch 49/200 [Train]: 100%|██████████| 27/27 [00:08<00:00,  3.29it/s, loss=0.00238]\n",
      "Epoch 49/200 [Val]: 100%|██████████| 3/3 [00:01<00:00,  2.33it/s, loss=0.00592]\n"
     ]
    },
    {
     "name": "stdout",
     "output_type": "stream",
     "text": [
      "Epoch 49/200 - Train Loss: 0.003418, Val Loss: 0.005531\n",
      "EarlyStopping counter: 1 out of 20\n"
     ]
    },
    {
     "name": "stderr",
     "output_type": "stream",
     "text": [
      "Epoch 50/200 [Train]: 100%|██████████| 27/27 [00:08<00:00,  3.25it/s, loss=0.00228]\n",
      "Epoch 50/200 [Val]: 100%|██████████| 3/3 [00:01<00:00,  2.28it/s, loss=0.00634]\n"
     ]
    },
    {
     "name": "stdout",
     "output_type": "stream",
     "text": [
      "Epoch 50/200 - Train Loss: 0.002969, Val Loss: 0.005849\n",
      "EarlyStopping counter: 2 out of 20\n"
     ]
    },
    {
     "name": "stderr",
     "output_type": "stream",
     "text": [
      "Epoch 51/200 [Train]: 100%|██████████| 27/27 [00:08<00:00,  3.28it/s, loss=0.00266]\n",
      "Epoch 51/200 [Val]: 100%|██████████| 3/3 [00:01<00:00,  2.42it/s, loss=0.00524]\n"
     ]
    },
    {
     "name": "stdout",
     "output_type": "stream",
     "text": [
      "Epoch 51/200 - Train Loss: 0.002749, Val Loss: 0.005065\n",
      "Validation loss decreased (0.005161 --> 0.005065).  Saving model ...\n"
     ]
    },
    {
     "name": "stderr",
     "output_type": "stream",
     "text": [
      "Epoch 52/200 [Train]: 100%|██████████| 27/27 [00:08<00:00,  3.23it/s, loss=0.0037] \n",
      "Epoch 52/200 [Val]: 100%|██████████| 3/3 [00:01<00:00,  2.37it/s, loss=0.00612]\n"
     ]
    },
    {
     "name": "stdout",
     "output_type": "stream",
     "text": [
      "Epoch 52/200 - Train Loss: 0.002995, Val Loss: 0.005669\n",
      "EarlyStopping counter: 1 out of 20\n"
     ]
    },
    {
     "name": "stderr",
     "output_type": "stream",
     "text": [
      "Epoch 53/200 [Train]: 100%|██████████| 27/27 [00:08<00:00,  3.19it/s, loss=0.00211]\n",
      "Epoch 53/200 [Val]: 100%|██████████| 3/3 [00:01<00:00,  2.41it/s, loss=0.00604]\n"
     ]
    },
    {
     "name": "stdout",
     "output_type": "stream",
     "text": [
      "Epoch 53/200 - Train Loss: 0.002741, Val Loss: 0.005777\n",
      "EarlyStopping counter: 2 out of 20\n"
     ]
    },
    {
     "name": "stderr",
     "output_type": "stream",
     "text": [
      "Epoch 54/200 [Train]: 100%|██████████| 27/27 [00:08<00:00,  3.24it/s, loss=0.00234]\n",
      "Epoch 54/200 [Val]: 100%|██████████| 3/3 [00:01<00:00,  2.29it/s, loss=0.00568]\n"
     ]
    },
    {
     "name": "stdout",
     "output_type": "stream",
     "text": [
      "Epoch 54/200 - Train Loss: 0.002707, Val Loss: 0.005261\n",
      "EarlyStopping counter: 3 out of 20\n"
     ]
    },
    {
     "name": "stderr",
     "output_type": "stream",
     "text": [
      "Epoch 55/200 [Train]: 100%|██████████| 27/27 [00:08<00:00,  3.29it/s, loss=0.00274]\n",
      "Epoch 55/200 [Val]: 100%|██████████| 3/3 [00:01<00:00,  2.42it/s, loss=0.00616]\n"
     ]
    },
    {
     "name": "stdout",
     "output_type": "stream",
     "text": [
      "Epoch 55/200 - Train Loss: 0.002644, Val Loss: 0.005558\n",
      "EarlyStopping counter: 4 out of 20\n"
     ]
    },
    {
     "name": "stderr",
     "output_type": "stream",
     "text": [
      "Epoch 56/200 [Train]: 100%|██████████| 27/27 [00:08<00:00,  3.26it/s, loss=0.00236]\n",
      "Epoch 56/200 [Val]: 100%|██████████| 3/3 [00:01<00:00,  2.40it/s, loss=0.00727]\n"
     ]
    },
    {
     "name": "stdout",
     "output_type": "stream",
     "text": [
      "Epoch 56/200 - Train Loss: 0.002756, Val Loss: 0.006427\n",
      "EarlyStopping counter: 5 out of 20\n"
     ]
    },
    {
     "name": "stderr",
     "output_type": "stream",
     "text": [
      "Epoch 57/200 [Train]: 100%|██████████| 27/27 [00:08<00:00,  3.32it/s, loss=0.00259]\n",
      "Epoch 57/200 [Val]: 100%|██████████| 3/3 [00:01<00:00,  2.41it/s, loss=0.00608]\n"
     ]
    },
    {
     "name": "stdout",
     "output_type": "stream",
     "text": [
      "Epoch 57/200 - Train Loss: 0.002841, Val Loss: 0.005636\n",
      "EarlyStopping counter: 6 out of 20\n"
     ]
    },
    {
     "name": "stderr",
     "output_type": "stream",
     "text": [
      "Epoch 58/200 [Train]: 100%|██████████| 27/27 [00:08<00:00,  3.19it/s, loss=0.00295]\n",
      "Epoch 58/200 [Val]: 100%|██████████| 3/3 [00:01<00:00,  2.41it/s, loss=0.00583]\n"
     ]
    },
    {
     "name": "stdout",
     "output_type": "stream",
     "text": [
      "Epoch 58/200 - Train Loss: 0.002469, Val Loss: 0.005501\n",
      "EarlyStopping counter: 7 out of 20\n"
     ]
    },
    {
     "name": "stderr",
     "output_type": "stream",
     "text": [
      "Epoch 59/200 [Train]: 100%|██████████| 27/27 [00:08<00:00,  3.31it/s, loss=0.00301]\n",
      "Epoch 59/200 [Val]: 100%|██████████| 3/3 [00:01<00:00,  2.33it/s, loss=0.00614]\n"
     ]
    },
    {
     "name": "stdout",
     "output_type": "stream",
     "text": [
      "Epoch 59/200 - Train Loss: 0.002406, Val Loss: 0.005677\n",
      "EarlyStopping counter: 8 out of 20\n"
     ]
    },
    {
     "name": "stderr",
     "output_type": "stream",
     "text": [
      "Epoch 60/200 [Train]: 100%|██████████| 27/27 [00:08<00:00,  3.17it/s, loss=0.00267]\n",
      "Epoch 60/200 [Val]: 100%|██████████| 3/3 [00:01<00:00,  2.30it/s, loss=0.00587]\n"
     ]
    },
    {
     "name": "stdout",
     "output_type": "stream",
     "text": [
      "Epoch 60/200 - Train Loss: 0.002405, Val Loss: 0.005383\n",
      "EarlyStopping counter: 9 out of 20\n"
     ]
    },
    {
     "name": "stderr",
     "output_type": "stream",
     "text": [
      "Epoch 61/200 [Train]: 100%|██████████| 27/27 [00:08<00:00,  3.30it/s, loss=0.0021] \n",
      "Epoch 61/200 [Val]: 100%|██████████| 3/3 [00:01<00:00,  2.43it/s, loss=0.00543]\n"
     ]
    },
    {
     "name": "stdout",
     "output_type": "stream",
     "text": [
      "Epoch 61/200 - Train Loss: 0.002404, Val Loss: 0.005147\n",
      "EarlyStopping counter: 10 out of 20\n"
     ]
    },
    {
     "name": "stderr",
     "output_type": "stream",
     "text": [
      "Epoch 62/200 [Train]: 100%|██████████| 27/27 [00:08<00:00,  3.23it/s, loss=0.00235]\n",
      "Epoch 62/200 [Val]: 100%|██████████| 3/3 [00:01<00:00,  2.29it/s, loss=0.00583]\n"
     ]
    },
    {
     "name": "stdout",
     "output_type": "stream",
     "text": [
      "Epoch 62/200 - Train Loss: 0.002424, Val Loss: 0.005311\n",
      "EarlyStopping counter: 11 out of 20\n"
     ]
    },
    {
     "name": "stderr",
     "output_type": "stream",
     "text": [
      "Epoch 63/200 [Train]: 100%|██████████| 27/27 [00:08<00:00,  3.24it/s, loss=0.00218]\n",
      "Epoch 63/200 [Val]: 100%|██████████| 3/3 [00:01<00:00,  2.39it/s, loss=0.00523]\n"
     ]
    },
    {
     "name": "stdout",
     "output_type": "stream",
     "text": [
      "Epoch 63/200 - Train Loss: 0.002724, Val Loss: 0.005189\n",
      "EarlyStopping counter: 12 out of 20\n"
     ]
    },
    {
     "name": "stderr",
     "output_type": "stream",
     "text": [
      "Epoch 64/200 [Train]: 100%|██████████| 27/27 [00:08<00:00,  3.27it/s, loss=0.00371]\n",
      "Epoch 64/200 [Val]: 100%|██████████| 3/3 [00:01<00:00,  2.34it/s, loss=0.00622]\n"
     ]
    },
    {
     "name": "stdout",
     "output_type": "stream",
     "text": [
      "Epoch 64/200 - Train Loss: 0.003020, Val Loss: 0.006704\n",
      "EarlyStopping counter: 13 out of 20\n"
     ]
    },
    {
     "name": "stderr",
     "output_type": "stream",
     "text": [
      "Epoch 65/200 [Train]: 100%|██████████| 27/27 [00:08<00:00,  3.27it/s, loss=0.00224]\n",
      "Epoch 65/200 [Val]: 100%|██████████| 3/3 [00:01<00:00,  2.39it/s, loss=0.0063] \n"
     ]
    },
    {
     "name": "stdout",
     "output_type": "stream",
     "text": [
      "Epoch 65/200 - Train Loss: 0.002784, Val Loss: 0.005571\n",
      "EarlyStopping counter: 14 out of 20\n"
     ]
    },
    {
     "name": "stderr",
     "output_type": "stream",
     "text": [
      "Epoch 66/200 [Train]: 100%|██████████| 27/27 [00:08<00:00,  3.25it/s, loss=0.00175]\n",
      "Epoch 66/200 [Val]: 100%|██████████| 3/3 [00:01<00:00,  2.42it/s, loss=0.00559]\n"
     ]
    },
    {
     "name": "stdout",
     "output_type": "stream",
     "text": [
      "Epoch 66/200 - Train Loss: 0.002528, Val Loss: 0.005121\n",
      "EarlyStopping counter: 15 out of 20\n"
     ]
    },
    {
     "name": "stderr",
     "output_type": "stream",
     "text": [
      "Epoch 67/200 [Train]: 100%|██████████| 27/27 [00:08<00:00,  3.28it/s, loss=0.0022] \n",
      "Epoch 67/200 [Val]: 100%|██████████| 3/3 [00:01<00:00,  2.40it/s, loss=0.00611]\n"
     ]
    },
    {
     "name": "stdout",
     "output_type": "stream",
     "text": [
      "Epoch 67/200 - Train Loss: 0.002548, Val Loss: 0.005420\n",
      "EarlyStopping counter: 16 out of 20\n"
     ]
    },
    {
     "name": "stderr",
     "output_type": "stream",
     "text": [
      "Epoch 68/200 [Train]: 100%|██████████| 27/27 [00:08<00:00,  3.26it/s, loss=0.00216]\n",
      "Epoch 68/200 [Val]: 100%|██████████| 3/3 [00:01<00:00,  2.43it/s, loss=0.00549]\n"
     ]
    },
    {
     "name": "stdout",
     "output_type": "stream",
     "text": [
      "Epoch 68/200 - Train Loss: 0.002352, Val Loss: 0.004993\n",
      "Validation loss decreased (0.005065 --> 0.004993).  Saving model ...\n"
     ]
    },
    {
     "name": "stderr",
     "output_type": "stream",
     "text": [
      "Epoch 69/200 [Train]: 100%|██████████| 27/27 [00:08<00:00,  3.20it/s, loss=0.00292]\n",
      "Epoch 69/200 [Val]: 100%|██████████| 3/3 [00:01<00:00,  2.42it/s, loss=0.00595]\n"
     ]
    },
    {
     "name": "stdout",
     "output_type": "stream",
     "text": [
      "Epoch 69/200 - Train Loss: 0.002337, Val Loss: 0.005474\n",
      "EarlyStopping counter: 1 out of 20\n"
     ]
    },
    {
     "name": "stderr",
     "output_type": "stream",
     "text": [
      "Epoch 70/200 [Train]: 100%|██████████| 27/27 [00:08<00:00,  3.24it/s, loss=0.00215]\n",
      "Epoch 70/200 [Val]: 100%|██████████| 3/3 [00:01<00:00,  2.36it/s, loss=0.00584]\n"
     ]
    },
    {
     "name": "stdout",
     "output_type": "stream",
     "text": [
      "Epoch 70/200 - Train Loss: 0.002322, Val Loss: 0.005384\n",
      "EarlyStopping counter: 2 out of 20\n"
     ]
    },
    {
     "name": "stderr",
     "output_type": "stream",
     "text": [
      "Epoch 71/200 [Train]: 100%|██████████| 27/27 [00:08<00:00,  3.27it/s, loss=0.00178]\n",
      "Epoch 71/200 [Val]: 100%|██████████| 3/3 [00:01<00:00,  2.43it/s, loss=0.00548]\n"
     ]
    },
    {
     "name": "stdout",
     "output_type": "stream",
     "text": [
      "Epoch 71/200 - Train Loss: 0.002287, Val Loss: 0.005185\n",
      "EarlyStopping counter: 3 out of 20\n"
     ]
    },
    {
     "name": "stderr",
     "output_type": "stream",
     "text": [
      "Epoch 72/200 [Train]: 100%|██████████| 27/27 [00:08<00:00,  3.30it/s, loss=0.0018] \n",
      "Epoch 72/200 [Val]: 100%|██████████| 3/3 [00:01<00:00,  2.41it/s, loss=0.00602]\n"
     ]
    },
    {
     "name": "stdout",
     "output_type": "stream",
     "text": [
      "Epoch 72/200 - Train Loss: 0.002455, Val Loss: 0.005539\n",
      "EarlyStopping counter: 4 out of 20\n"
     ]
    },
    {
     "name": "stderr",
     "output_type": "stream",
     "text": [
      "Epoch 73/200 [Train]: 100%|██████████| 27/27 [00:08<00:00,  3.31it/s, loss=0.00181]\n",
      "Epoch 73/200 [Val]: 100%|██████████| 3/3 [00:01<00:00,  2.44it/s, loss=0.00584]\n"
     ]
    },
    {
     "name": "stdout",
     "output_type": "stream",
     "text": [
      "Epoch 73/200 - Train Loss: 0.002169, Val Loss: 0.005227\n",
      "EarlyStopping counter: 5 out of 20\n"
     ]
    },
    {
     "name": "stderr",
     "output_type": "stream",
     "text": [
      "Epoch 74/200 [Train]: 100%|██████████| 27/27 [00:08<00:00,  3.26it/s, loss=0.00241]\n",
      "Epoch 74/200 [Val]: 100%|██████████| 3/3 [00:01<00:00,  2.39it/s, loss=0.00565]\n"
     ]
    },
    {
     "name": "stdout",
     "output_type": "stream",
     "text": [
      "Epoch 74/200 - Train Loss: 0.002138, Val Loss: 0.005380\n",
      "EarlyStopping counter: 6 out of 20\n"
     ]
    },
    {
     "name": "stderr",
     "output_type": "stream",
     "text": [
      "Epoch 75/200 [Train]: 100%|██████████| 27/27 [00:08<00:00,  3.31it/s, loss=0.0025] \n",
      "Epoch 75/200 [Val]: 100%|██████████| 3/3 [00:01<00:00,  2.40it/s, loss=0.00536]\n"
     ]
    },
    {
     "name": "stdout",
     "output_type": "stream",
     "text": [
      "Epoch 75/200 - Train Loss: 0.002468, Val Loss: 0.005186\n",
      "EarlyStopping counter: 7 out of 20\n"
     ]
    },
    {
     "name": "stderr",
     "output_type": "stream",
     "text": [
      "Epoch 76/200 [Train]: 100%|██████████| 27/27 [00:08<00:00,  3.29it/s, loss=0.00234]\n",
      "Epoch 76/200 [Val]: 100%|██████████| 3/3 [00:01<00:00,  2.39it/s, loss=0.00599]\n"
     ]
    },
    {
     "name": "stdout",
     "output_type": "stream",
     "text": [
      "Epoch 76/200 - Train Loss: 0.002308, Val Loss: 0.005377\n",
      "EarlyStopping counter: 8 out of 20\n"
     ]
    },
    {
     "name": "stderr",
     "output_type": "stream",
     "text": [
      "Epoch 77/200 [Train]: 100%|██████████| 27/27 [00:08<00:00,  3.28it/s, loss=0.0018] \n",
      "Epoch 77/200 [Val]: 100%|██████████| 3/3 [00:01<00:00,  2.41it/s, loss=0.00559]\n"
     ]
    },
    {
     "name": "stdout",
     "output_type": "stream",
     "text": [
      "Epoch 77/200 - Train Loss: 0.002011, Val Loss: 0.005147\n",
      "EarlyStopping counter: 9 out of 20\n"
     ]
    },
    {
     "name": "stderr",
     "output_type": "stream",
     "text": [
      "Epoch 78/200 [Train]: 100%|██████████| 27/27 [00:08<00:00,  3.28it/s, loss=0.00197]\n",
      "Epoch 78/200 [Val]: 100%|██████████| 3/3 [00:01<00:00,  2.43it/s, loss=0.00558]\n"
     ]
    },
    {
     "name": "stdout",
     "output_type": "stream",
     "text": [
      "Epoch 78/200 - Train Loss: 0.002048, Val Loss: 0.005128\n",
      "EarlyStopping counter: 10 out of 20\n"
     ]
    },
    {
     "name": "stderr",
     "output_type": "stream",
     "text": [
      "Epoch 79/200 [Train]: 100%|██████████| 27/27 [00:08<00:00,  3.30it/s, loss=0.00299]\n",
      "Epoch 79/200 [Val]: 100%|██████████| 3/3 [00:01<00:00,  2.39it/s, loss=0.00515]\n"
     ]
    },
    {
     "name": "stdout",
     "output_type": "stream",
     "text": [
      "Epoch 79/200 - Train Loss: 0.002134, Val Loss: 0.005020\n",
      "EarlyStopping counter: 11 out of 20\n"
     ]
    },
    {
     "name": "stderr",
     "output_type": "stream",
     "text": [
      "Epoch 80/200 [Train]: 100%|██████████| 27/27 [00:08<00:00,  3.31it/s, loss=0.00217]\n",
      "Epoch 80/200 [Val]: 100%|██████████| 3/3 [00:01<00:00,  2.45it/s, loss=0.00575]\n"
     ]
    },
    {
     "name": "stdout",
     "output_type": "stream",
     "text": [
      "Epoch 80/200 - Train Loss: 0.002022, Val Loss: 0.005084\n",
      "EarlyStopping counter: 12 out of 20\n"
     ]
    },
    {
     "name": "stderr",
     "output_type": "stream",
     "text": [
      "Epoch 81/200 [Train]: 100%|██████████| 27/27 [00:08<00:00,  3.27it/s, loss=0.00185]\n",
      "Epoch 81/200 [Val]: 100%|██████████| 3/3 [00:01<00:00,  2.36it/s, loss=0.00573]\n"
     ]
    },
    {
     "name": "stdout",
     "output_type": "stream",
     "text": [
      "Epoch 81/200 - Train Loss: 0.002045, Val Loss: 0.005191\n",
      "EarlyStopping counter: 13 out of 20\n"
     ]
    },
    {
     "name": "stderr",
     "output_type": "stream",
     "text": [
      "Epoch 82/200 [Train]: 100%|██████████| 27/27 [00:08<00:00,  3.24it/s, loss=0.00207]\n",
      "Epoch 82/200 [Val]: 100%|██████████| 3/3 [00:01<00:00,  2.40it/s, loss=0.00559]\n"
     ]
    },
    {
     "name": "stdout",
     "output_type": "stream",
     "text": [
      "Epoch 82/200 - Train Loss: 0.002043, Val Loss: 0.005173\n",
      "EarlyStopping counter: 14 out of 20\n"
     ]
    },
    {
     "name": "stderr",
     "output_type": "stream",
     "text": [
      "Epoch 83/200 [Train]: 100%|██████████| 27/27 [00:08<00:00,  3.29it/s, loss=0.00202]\n",
      "Epoch 83/200 [Val]: 100%|██████████| 3/3 [00:01<00:00,  2.43it/s, loss=0.00559]\n"
     ]
    },
    {
     "name": "stdout",
     "output_type": "stream",
     "text": [
      "Epoch 83/200 - Train Loss: 0.001962, Val Loss: 0.004975\n",
      "Validation loss decreased (0.004993 --> 0.004975).  Saving model ...\n"
     ]
    },
    {
     "name": "stderr",
     "output_type": "stream",
     "text": [
      "Epoch 84/200 [Train]: 100%|██████████| 27/27 [00:08<00:00,  3.30it/s, loss=0.00288]\n",
      "Epoch 84/200 [Val]: 100%|██████████| 3/3 [00:01<00:00,  2.45it/s, loss=0.00517]\n"
     ]
    },
    {
     "name": "stdout",
     "output_type": "stream",
     "text": [
      "Epoch 84/200 - Train Loss: 0.002061, Val Loss: 0.004929\n",
      "Validation loss decreased (0.004975 --> 0.004929).  Saving model ...\n"
     ]
    },
    {
     "name": "stderr",
     "output_type": "stream",
     "text": [
      "Epoch 85/200 [Train]: 100%|██████████| 27/27 [00:08<00:00,  3.25it/s, loss=0.00299]\n",
      "Epoch 85/200 [Val]: 100%|██████████| 3/3 [00:01<00:00,  2.36it/s, loss=0.00533]\n"
     ]
    },
    {
     "name": "stdout",
     "output_type": "stream",
     "text": [
      "Epoch 85/200 - Train Loss: 0.002329, Val Loss: 0.004767\n",
      "Validation loss decreased (0.004929 --> 0.004767).  Saving model ...\n"
     ]
    },
    {
     "name": "stderr",
     "output_type": "stream",
     "text": [
      "Epoch 86/200 [Train]: 100%|██████████| 27/27 [00:08<00:00,  3.31it/s, loss=0.00145]\n",
      "Epoch 86/200 [Val]: 100%|██████████| 3/3 [00:01<00:00,  2.43it/s, loss=0.00589]\n"
     ]
    },
    {
     "name": "stdout",
     "output_type": "stream",
     "text": [
      "Epoch 86/200 - Train Loss: 0.002078, Val Loss: 0.005128\n",
      "EarlyStopping counter: 1 out of 20\n"
     ]
    },
    {
     "name": "stderr",
     "output_type": "stream",
     "text": [
      "Epoch 87/200 [Train]: 100%|██████████| 27/27 [00:08<00:00,  3.27it/s, loss=0.00233]\n",
      "Epoch 87/200 [Val]: 100%|██████████| 3/3 [00:01<00:00,  2.39it/s, loss=0.00577]\n"
     ]
    },
    {
     "name": "stdout",
     "output_type": "stream",
     "text": [
      "Epoch 87/200 - Train Loss: 0.001854, Val Loss: 0.005021\n",
      "EarlyStopping counter: 2 out of 20\n"
     ]
    },
    {
     "name": "stderr",
     "output_type": "stream",
     "text": [
      "Epoch 88/200 [Train]: 100%|██████████| 27/27 [00:08<00:00,  3.27it/s, loss=0.00145]\n",
      "Epoch 88/200 [Val]: 100%|██████████| 3/3 [00:01<00:00,  2.41it/s, loss=0.00563]\n"
     ]
    },
    {
     "name": "stdout",
     "output_type": "stream",
     "text": [
      "Epoch 88/200 - Train Loss: 0.001896, Val Loss: 0.005010\n",
      "EarlyStopping counter: 3 out of 20\n"
     ]
    },
    {
     "name": "stderr",
     "output_type": "stream",
     "text": [
      "Epoch 89/200 [Train]: 100%|██████████| 27/27 [00:08<00:00,  3.27it/s, loss=0.00187]\n",
      "Epoch 89/200 [Val]: 100%|██████████| 3/3 [00:01<00:00,  2.43it/s, loss=0.00616]\n"
     ]
    },
    {
     "name": "stdout",
     "output_type": "stream",
     "text": [
      "Epoch 89/200 - Train Loss: 0.001883, Val Loss: 0.005397\n",
      "EarlyStopping counter: 4 out of 20\n"
     ]
    },
    {
     "name": "stderr",
     "output_type": "stream",
     "text": [
      "Epoch 90/200 [Train]: 100%|██████████| 27/27 [00:08<00:00,  3.21it/s, loss=0.00148]\n",
      "Epoch 90/200 [Val]: 100%|██████████| 3/3 [00:01<00:00,  2.41it/s, loss=0.00583]\n"
     ]
    },
    {
     "name": "stdout",
     "output_type": "stream",
     "text": [
      "Epoch 90/200 - Train Loss: 0.001911, Val Loss: 0.005174\n",
      "EarlyStopping counter: 5 out of 20\n"
     ]
    },
    {
     "name": "stderr",
     "output_type": "stream",
     "text": [
      "Epoch 91/200 [Train]: 100%|██████████| 27/27 [00:08<00:00,  3.21it/s, loss=0.00172]\n",
      "Epoch 91/200 [Val]: 100%|██████████| 3/3 [00:01<00:00,  2.39it/s, loss=0.00557]\n"
     ]
    },
    {
     "name": "stdout",
     "output_type": "stream",
     "text": [
      "Epoch 91/200 - Train Loss: 0.001791, Val Loss: 0.004956\n",
      "EarlyStopping counter: 6 out of 20\n"
     ]
    },
    {
     "name": "stderr",
     "output_type": "stream",
     "text": [
      "Epoch 92/200 [Train]: 100%|██████████| 27/27 [00:08<00:00,  3.19it/s, loss=0.00248]\n",
      "Epoch 92/200 [Val]: 100%|██████████| 3/3 [00:01<00:00,  2.41it/s, loss=0.0053] \n"
     ]
    },
    {
     "name": "stdout",
     "output_type": "stream",
     "text": [
      "Epoch 92/200 - Train Loss: 0.001931, Val Loss: 0.004799\n",
      "EarlyStopping counter: 7 out of 20\n"
     ]
    },
    {
     "name": "stderr",
     "output_type": "stream",
     "text": [
      "Epoch 93/200 [Train]: 100%|██████████| 27/27 [00:08<00:00,  3.29it/s, loss=0.00235] \n",
      "Epoch 93/200 [Val]: 100%|██████████| 3/3 [00:01<00:00,  2.38it/s, loss=0.00535]\n"
     ]
    },
    {
     "name": "stdout",
     "output_type": "stream",
     "text": [
      "Epoch 93/200 - Train Loss: 0.001738, Val Loss: 0.004890\n",
      "EarlyStopping counter: 8 out of 20\n"
     ]
    },
    {
     "name": "stderr",
     "output_type": "stream",
     "text": [
      "Epoch 94/200 [Train]: 100%|██████████| 27/27 [00:08<00:00,  3.32it/s, loss=0.00164]\n",
      "Epoch 94/200 [Val]: 100%|██████████| 3/3 [00:01<00:00,  2.38it/s, loss=0.00525]\n"
     ]
    },
    {
     "name": "stdout",
     "output_type": "stream",
     "text": [
      "Epoch 94/200 - Train Loss: 0.001886, Val Loss: 0.004849\n",
      "EarlyStopping counter: 9 out of 20\n"
     ]
    },
    {
     "name": "stderr",
     "output_type": "stream",
     "text": [
      "Epoch 95/200 [Train]: 100%|██████████| 27/27 [00:08<00:00,  3.27it/s, loss=0.00323]\n",
      "Epoch 95/200 [Val]: 100%|██████████| 3/3 [00:01<00:00,  2.37it/s, loss=0.00507]\n"
     ]
    },
    {
     "name": "stdout",
     "output_type": "stream",
     "text": [
      "Epoch 95/200 - Train Loss: 0.002102, Val Loss: 0.004891\n",
      "EarlyStopping counter: 10 out of 20\n"
     ]
    },
    {
     "name": "stderr",
     "output_type": "stream",
     "text": [
      "Epoch 96/200 [Train]: 100%|██████████| 27/27 [00:08<00:00,  3.26it/s, loss=0.00254]\n",
      "Epoch 96/200 [Val]: 100%|██████████| 3/3 [00:01<00:00,  2.41it/s, loss=0.00511]\n"
     ]
    },
    {
     "name": "stdout",
     "output_type": "stream",
     "text": [
      "Epoch 96/200 - Train Loss: 0.001846, Val Loss: 0.004858\n",
      "EarlyStopping counter: 11 out of 20\n"
     ]
    },
    {
     "name": "stderr",
     "output_type": "stream",
     "text": [
      "Epoch 97/200 [Train]: 100%|██████████| 27/27 [00:08<00:00,  3.29it/s, loss=0.00194]\n",
      "Epoch 97/200 [Val]: 100%|██████████| 3/3 [00:01<00:00,  2.43it/s, loss=0.00632]\n"
     ]
    },
    {
     "name": "stdout",
     "output_type": "stream",
     "text": [
      "Epoch 97/200 - Train Loss: 0.002286, Val Loss: 0.005764\n",
      "EarlyStopping counter: 12 out of 20\n"
     ]
    },
    {
     "name": "stderr",
     "output_type": "stream",
     "text": [
      "Epoch 98/200 [Train]: 100%|██████████| 27/27 [00:08<00:00,  3.20it/s, loss=0.00173]\n",
      "Epoch 98/200 [Val]: 100%|██████████| 3/3 [00:01<00:00,  2.40it/s, loss=0.00514]\n"
     ]
    },
    {
     "name": "stdout",
     "output_type": "stream",
     "text": [
      "Epoch 98/200 - Train Loss: 0.002116, Val Loss: 0.004663\n",
      "Validation loss decreased (0.004767 --> 0.004663).  Saving model ...\n"
     ]
    },
    {
     "name": "stderr",
     "output_type": "stream",
     "text": [
      "Epoch 99/200 [Train]: 100%|██████████| 27/27 [00:08<00:00,  3.30it/s, loss=0.00142]\n",
      "Epoch 99/200 [Val]: 100%|██████████| 3/3 [00:01<00:00,  2.41it/s, loss=0.0063]\n"
     ]
    },
    {
     "name": "stdout",
     "output_type": "stream",
     "text": [
      "Epoch 99/200 - Train Loss: 0.001966, Val Loss: 0.005624\n",
      "EarlyStopping counter: 1 out of 20\n"
     ]
    },
    {
     "name": "stderr",
     "output_type": "stream",
     "text": [
      "Epoch 100/200 [Train]: 100%|██████████| 27/27 [00:08<00:00,  3.28it/s, loss=0.00307]\n",
      "Epoch 100/200 [Val]: 100%|██████████| 3/3 [00:01<00:00,  2.35it/s, loss=0.005]  \n"
     ]
    },
    {
     "name": "stdout",
     "output_type": "stream",
     "text": [
      "Epoch 100/200 - Train Loss: 0.002138, Val Loss: 0.004769\n",
      "EarlyStopping counter: 2 out of 20\n"
     ]
    },
    {
     "name": "stderr",
     "output_type": "stream",
     "text": [
      "Epoch 101/200 [Train]: 100%|██████████| 27/27 [00:08<00:00,  3.22it/s, loss=0.00224]\n",
      "Epoch 101/200 [Val]: 100%|██████████| 3/3 [00:01<00:00,  2.37it/s, loss=0.00589]\n"
     ]
    },
    {
     "name": "stdout",
     "output_type": "stream",
     "text": [
      "Epoch 101/200 - Train Loss: 0.002620, Val Loss: 0.005043\n",
      "EarlyStopping counter: 3 out of 20\n"
     ]
    },
    {
     "name": "stderr",
     "output_type": "stream",
     "text": [
      "Epoch 102/200 [Train]: 100%|██████████| 27/27 [00:08<00:00,  3.24it/s, loss=0.00141]\n",
      "Epoch 102/200 [Val]: 100%|██████████| 3/3 [00:01<00:00,  2.36it/s, loss=0.00584]\n"
     ]
    },
    {
     "name": "stdout",
     "output_type": "stream",
     "text": [
      "Epoch 102/200 - Train Loss: 0.001980, Val Loss: 0.005119\n",
      "EarlyStopping counter: 4 out of 20\n"
     ]
    },
    {
     "name": "stderr",
     "output_type": "stream",
     "text": [
      "Epoch 103/200 [Train]: 100%|██████████| 27/27 [00:08<00:00,  3.30it/s, loss=0.00156]\n",
      "Epoch 103/200 [Val]: 100%|██████████| 3/3 [00:01<00:00,  2.41it/s, loss=0.00533]\n"
     ]
    },
    {
     "name": "stdout",
     "output_type": "stream",
     "text": [
      "Epoch 103/200 - Train Loss: 0.001843, Val Loss: 0.005001\n",
      "EarlyStopping counter: 5 out of 20\n"
     ]
    },
    {
     "name": "stderr",
     "output_type": "stream",
     "text": [
      "Epoch 104/200 [Train]: 100%|██████████| 27/27 [00:08<00:00,  3.31it/s, loss=0.00187]\n",
      "Epoch 104/200 [Val]: 100%|██████████| 3/3 [00:01<00:00,  2.42it/s, loss=0.00529]\n"
     ]
    },
    {
     "name": "stdout",
     "output_type": "stream",
     "text": [
      "Epoch 104/200 - Train Loss: 0.001701, Val Loss: 0.004749\n",
      "EarlyStopping counter: 6 out of 20\n"
     ]
    },
    {
     "name": "stderr",
     "output_type": "stream",
     "text": [
      "Epoch 105/200 [Train]: 100%|██████████| 27/27 [00:08<00:00,  3.32it/s, loss=0.00155]\n",
      "Epoch 105/200 [Val]: 100%|██████████| 3/3 [00:01<00:00,  2.40it/s, loss=0.00538]\n"
     ]
    },
    {
     "name": "stdout",
     "output_type": "stream",
     "text": [
      "Epoch 105/200 - Train Loss: 0.001686, Val Loss: 0.004879\n",
      "EarlyStopping counter: 7 out of 20\n"
     ]
    },
    {
     "name": "stderr",
     "output_type": "stream",
     "text": [
      "Epoch 106/200 [Train]: 100%|██████████| 27/27 [00:08<00:00,  3.28it/s, loss=0.0015]  \n",
      "Epoch 106/200 [Val]: 100%|██████████| 3/3 [00:01<00:00,  2.39it/s, loss=0.00545]\n"
     ]
    },
    {
     "name": "stdout",
     "output_type": "stream",
     "text": [
      "Epoch 106/200 - Train Loss: 0.001653, Val Loss: 0.004945\n",
      "EarlyStopping counter: 8 out of 20\n"
     ]
    },
    {
     "name": "stderr",
     "output_type": "stream",
     "text": [
      "Epoch 107/200 [Train]: 100%|██████████| 27/27 [00:08<00:00,  3.27it/s, loss=0.00154]\n",
      "Epoch 107/200 [Val]: 100%|██████████| 3/3 [00:01<00:00,  2.40it/s, loss=0.00525]\n"
     ]
    },
    {
     "name": "stdout",
     "output_type": "stream",
     "text": [
      "Epoch 107/200 - Train Loss: 0.001725, Val Loss: 0.004725\n",
      "EarlyStopping counter: 9 out of 20\n"
     ]
    },
    {
     "name": "stderr",
     "output_type": "stream",
     "text": [
      "Epoch 108/200 [Train]: 100%|██████████| 27/27 [00:08<00:00,  3.26it/s, loss=0.00218]\n",
      "Epoch 108/200 [Val]: 100%|██████████| 3/3 [00:01<00:00,  2.39it/s, loss=0.00537]\n"
     ]
    },
    {
     "name": "stdout",
     "output_type": "stream",
     "text": [
      "Epoch 108/200 - Train Loss: 0.001702, Val Loss: 0.004841\n",
      "EarlyStopping counter: 10 out of 20\n"
     ]
    },
    {
     "name": "stderr",
     "output_type": "stream",
     "text": [
      "Epoch 109/200 [Train]: 100%|██████████| 27/27 [00:08<00:00,  3.28it/s, loss=0.00291]\n",
      "Epoch 109/200 [Val]: 100%|██████████| 3/3 [00:01<00:00,  2.32it/s, loss=0.00546]\n"
     ]
    },
    {
     "name": "stdout",
     "output_type": "stream",
     "text": [
      "Epoch 109/200 - Train Loss: 0.001689, Val Loss: 0.004911\n",
      "EarlyStopping counter: 11 out of 20\n"
     ]
    },
    {
     "name": "stderr",
     "output_type": "stream",
     "text": [
      "Epoch 110/200 [Train]: 100%|██████████| 27/27 [00:08<00:00,  3.30it/s, loss=0.00119]\n",
      "Epoch 110/200 [Val]: 100%|██████████| 3/3 [00:01<00:00,  2.39it/s, loss=0.00545]\n"
     ]
    },
    {
     "name": "stdout",
     "output_type": "stream",
     "text": [
      "Epoch 110/200 - Train Loss: 0.001705, Val Loss: 0.004715\n",
      "EarlyStopping counter: 12 out of 20\n"
     ]
    },
    {
     "name": "stderr",
     "output_type": "stream",
     "text": [
      "Epoch 111/200 [Train]: 100%|██████████| 27/27 [00:08<00:00,  3.27it/s, loss=0.00208]\n",
      "Epoch 111/200 [Val]: 100%|██████████| 3/3 [00:01<00:00,  2.37it/s, loss=0.00512]\n"
     ]
    },
    {
     "name": "stdout",
     "output_type": "stream",
     "text": [
      "Epoch 111/200 - Train Loss: 0.001839, Val Loss: 0.004664\n",
      "EarlyStopping counter: 13 out of 20\n"
     ]
    },
    {
     "name": "stderr",
     "output_type": "stream",
     "text": [
      "Epoch 112/200 [Train]: 100%|██████████| 27/27 [00:08<00:00,  3.25it/s, loss=0.002]  \n",
      "Epoch 112/200 [Val]: 100%|██████████| 3/3 [00:01<00:00,  2.40it/s, loss=0.00589]\n"
     ]
    },
    {
     "name": "stdout",
     "output_type": "stream",
     "text": [
      "Epoch 112/200 - Train Loss: 0.001707, Val Loss: 0.005084\n",
      "EarlyStopping counter: 14 out of 20\n"
     ]
    },
    {
     "name": "stderr",
     "output_type": "stream",
     "text": [
      "Epoch 113/200 [Train]: 100%|██████████| 27/27 [00:08<00:00,  3.32it/s, loss=0.00139] \n",
      "Epoch 113/200 [Val]: 100%|██████████| 3/3 [00:01<00:00,  2.41it/s, loss=0.00563]\n"
     ]
    },
    {
     "name": "stdout",
     "output_type": "stream",
     "text": [
      "Epoch 113/200 - Train Loss: 0.001578, Val Loss: 0.004966\n",
      "EarlyStopping counter: 15 out of 20\n"
     ]
    },
    {
     "name": "stderr",
     "output_type": "stream",
     "text": [
      "Epoch 114/200 [Train]: 100%|██████████| 27/27 [00:08<00:00,  3.30it/s, loss=0.0019] \n",
      "Epoch 114/200 [Val]: 100%|██████████| 3/3 [00:01<00:00,  2.43it/s, loss=0.00522]\n"
     ]
    },
    {
     "name": "stdout",
     "output_type": "stream",
     "text": [
      "Epoch 114/200 - Train Loss: 0.001672, Val Loss: 0.004698\n",
      "EarlyStopping counter: 16 out of 20\n"
     ]
    },
    {
     "name": "stderr",
     "output_type": "stream",
     "text": [
      "Epoch 115/200 [Train]: 100%|██████████| 27/27 [00:08<00:00,  3.28it/s, loss=0.00109]\n",
      "Epoch 115/200 [Val]: 100%|██████████| 3/3 [00:01<00:00,  2.38it/s, loss=0.00507]\n"
     ]
    },
    {
     "name": "stdout",
     "output_type": "stream",
     "text": [
      "Epoch 115/200 - Train Loss: 0.001622, Val Loss: 0.004627\n",
      "Validation loss decreased (0.004663 --> 0.004627).  Saving model ...\n"
     ]
    },
    {
     "name": "stderr",
     "output_type": "stream",
     "text": [
      "Epoch 116/200 [Train]: 100%|██████████| 27/27 [00:08<00:00,  3.27it/s, loss=0.00205]\n",
      "Epoch 116/200 [Val]: 100%|██████████| 3/3 [00:01<00:00,  2.41it/s, loss=0.00567]\n"
     ]
    },
    {
     "name": "stdout",
     "output_type": "stream",
     "text": [
      "Epoch 116/200 - Train Loss: 0.001587, Val Loss: 0.005123\n",
      "EarlyStopping counter: 1 out of 20\n"
     ]
    },
    {
     "name": "stderr",
     "output_type": "stream",
     "text": [
      "Epoch 117/200 [Train]: 100%|██████████| 27/27 [00:08<00:00,  3.33it/s, loss=0.00166]\n",
      "Epoch 117/200 [Val]: 100%|██████████| 3/3 [00:01<00:00,  2.44it/s, loss=0.00539]\n"
     ]
    },
    {
     "name": "stdout",
     "output_type": "stream",
     "text": [
      "Epoch 117/200 - Train Loss: 0.001596, Val Loss: 0.004766\n",
      "EarlyStopping counter: 2 out of 20\n"
     ]
    },
    {
     "name": "stderr",
     "output_type": "stream",
     "text": [
      "Epoch 118/200 [Train]: 100%|██████████| 27/27 [00:08<00:00,  3.24it/s, loss=0.00214]\n",
      "Epoch 118/200 [Val]: 100%|██████████| 3/3 [00:01<00:00,  2.43it/s, loss=0.00532]\n"
     ]
    },
    {
     "name": "stdout",
     "output_type": "stream",
     "text": [
      "Epoch 118/200 - Train Loss: 0.001628, Val Loss: 0.004928\n",
      "EarlyStopping counter: 3 out of 20\n"
     ]
    },
    {
     "name": "stderr",
     "output_type": "stream",
     "text": [
      "Epoch 119/200 [Train]: 100%|██████████| 27/27 [00:08<00:00,  3.30it/s, loss=0.00214]\n",
      "Epoch 119/200 [Val]: 100%|██████████| 3/3 [00:01<00:00,  2.43it/s, loss=0.00535]\n"
     ]
    },
    {
     "name": "stdout",
     "output_type": "stream",
     "text": [
      "Epoch 119/200 - Train Loss: 0.001663, Val Loss: 0.004700\n",
      "EarlyStopping counter: 4 out of 20\n"
     ]
    },
    {
     "name": "stderr",
     "output_type": "stream",
     "text": [
      "Epoch 120/200 [Train]: 100%|██████████| 27/27 [00:08<00:00,  3.27it/s, loss=0.00134]\n",
      "Epoch 120/200 [Val]: 100%|██████████| 3/3 [00:01<00:00,  2.44it/s, loss=0.00527]\n"
     ]
    },
    {
     "name": "stdout",
     "output_type": "stream",
     "text": [
      "Epoch 120/200 - Train Loss: 0.001626, Val Loss: 0.004811\n",
      "EarlyStopping counter: 5 out of 20\n"
     ]
    },
    {
     "name": "stderr",
     "output_type": "stream",
     "text": [
      "Epoch 121/200 [Train]: 100%|██████████| 27/27 [00:08<00:00,  3.28it/s, loss=0.00188] \n",
      "Epoch 121/200 [Val]: 100%|██████████| 3/3 [00:01<00:00,  2.42it/s, loss=0.00562]\n"
     ]
    },
    {
     "name": "stdout",
     "output_type": "stream",
     "text": [
      "Epoch 121/200 - Train Loss: 0.001513, Val Loss: 0.004959\n",
      "EarlyStopping counter: 6 out of 20\n"
     ]
    },
    {
     "name": "stderr",
     "output_type": "stream",
     "text": [
      "Epoch 122/200 [Train]: 100%|██████████| 27/27 [00:08<00:00,  3.32it/s, loss=0.00204]\n",
      "Epoch 122/200 [Val]: 100%|██████████| 3/3 [00:01<00:00,  2.45it/s, loss=0.0053] \n"
     ]
    },
    {
     "name": "stdout",
     "output_type": "stream",
     "text": [
      "Epoch 122/200 - Train Loss: 0.001636, Val Loss: 0.004712\n",
      "EarlyStopping counter: 7 out of 20\n"
     ]
    },
    {
     "name": "stderr",
     "output_type": "stream",
     "text": [
      "Epoch 123/200 [Train]: 100%|██████████| 27/27 [00:08<00:00,  3.35it/s, loss=0.00131]\n",
      "Epoch 123/200 [Val]: 100%|██████████| 3/3 [00:01<00:00,  2.39it/s, loss=0.00517]\n"
     ]
    },
    {
     "name": "stdout",
     "output_type": "stream",
     "text": [
      "Epoch 123/200 - Train Loss: 0.001579, Val Loss: 0.004619\n",
      "Validation loss decreased (0.004627 --> 0.004619).  Saving model ...\n"
     ]
    },
    {
     "name": "stderr",
     "output_type": "stream",
     "text": [
      "Epoch 124/200 [Train]: 100%|██████████| 27/27 [00:08<00:00,  3.31it/s, loss=0.0015] \n",
      "Epoch 124/200 [Val]: 100%|██████████| 3/3 [00:01<00:00,  2.44it/s, loss=0.00528]\n"
     ]
    },
    {
     "name": "stdout",
     "output_type": "stream",
     "text": [
      "Epoch 124/200 - Train Loss: 0.001432, Val Loss: 0.004830\n",
      "EarlyStopping counter: 1 out of 20\n"
     ]
    },
    {
     "name": "stderr",
     "output_type": "stream",
     "text": [
      "Epoch 125/200 [Train]: 100%|██████████| 27/27 [00:08<00:00,  3.30it/s, loss=0.000763]\n",
      "Epoch 125/200 [Val]: 100%|██████████| 3/3 [00:01<00:00,  2.43it/s, loss=0.00506]\n"
     ]
    },
    {
     "name": "stdout",
     "output_type": "stream",
     "text": [
      "Epoch 125/200 - Train Loss: 0.001471, Val Loss: 0.004665\n",
      "EarlyStopping counter: 2 out of 20\n"
     ]
    },
    {
     "name": "stderr",
     "output_type": "stream",
     "text": [
      "Epoch 126/200 [Train]: 100%|██████████| 27/27 [00:08<00:00,  3.32it/s, loss=0.00205]\n",
      "Epoch 126/200 [Val]: 100%|██████████| 3/3 [00:01<00:00,  2.43it/s, loss=0.00559]\n"
     ]
    },
    {
     "name": "stdout",
     "output_type": "stream",
     "text": [
      "Epoch 126/200 - Train Loss: 0.001527, Val Loss: 0.004894\n",
      "EarlyStopping counter: 3 out of 20\n"
     ]
    },
    {
     "name": "stderr",
     "output_type": "stream",
     "text": [
      "Epoch 127/200 [Train]: 100%|██████████| 27/27 [00:08<00:00,  3.29it/s, loss=0.000927]\n",
      "Epoch 127/200 [Val]: 100%|██████████| 3/3 [00:01<00:00,  2.40it/s, loss=0.00538]\n"
     ]
    },
    {
     "name": "stdout",
     "output_type": "stream",
     "text": [
      "Epoch 127/200 - Train Loss: 0.001511, Val Loss: 0.004932\n",
      "EarlyStopping counter: 4 out of 20\n"
     ]
    },
    {
     "name": "stderr",
     "output_type": "stream",
     "text": [
      "Epoch 128/200 [Train]: 100%|██████████| 27/27 [00:08<00:00,  3.19it/s, loss=0.00108]\n",
      "Epoch 128/200 [Val]: 100%|██████████| 3/3 [00:01<00:00,  2.37it/s, loss=0.00484]\n"
     ]
    },
    {
     "name": "stdout",
     "output_type": "stream",
     "text": [
      "Epoch 128/200 - Train Loss: 0.001626, Val Loss: 0.004562\n",
      "Validation loss decreased (0.004619 --> 0.004562).  Saving model ...\n"
     ]
    },
    {
     "name": "stderr",
     "output_type": "stream",
     "text": [
      "Epoch 129/200 [Train]: 100%|██████████| 27/27 [00:08<00:00,  3.31it/s, loss=0.00179]\n",
      "Epoch 129/200 [Val]: 100%|██████████| 3/3 [00:01<00:00,  2.38it/s, loss=0.00585]\n"
     ]
    },
    {
     "name": "stdout",
     "output_type": "stream",
     "text": [
      "Epoch 129/200 - Train Loss: 0.001680, Val Loss: 0.005322\n",
      "EarlyStopping counter: 1 out of 20\n"
     ]
    },
    {
     "name": "stderr",
     "output_type": "stream",
     "text": [
      "Epoch 130/200 [Train]: 100%|██████████| 27/27 [00:08<00:00,  3.30it/s, loss=0.00124] \n",
      "Epoch 130/200 [Val]: 100%|██████████| 3/3 [00:01<00:00,  2.38it/s, loss=0.00532]\n"
     ]
    },
    {
     "name": "stdout",
     "output_type": "stream",
     "text": [
      "Epoch 130/200 - Train Loss: 0.001619, Val Loss: 0.004737\n",
      "EarlyStopping counter: 2 out of 20\n"
     ]
    },
    {
     "name": "stderr",
     "output_type": "stream",
     "text": [
      "Epoch 131/200 [Train]: 100%|██████████| 27/27 [00:08<00:00,  3.31it/s, loss=0.00215] \n",
      "Epoch 131/200 [Val]: 100%|██████████| 3/3 [00:01<00:00,  2.41it/s, loss=0.00489]\n"
     ]
    },
    {
     "name": "stdout",
     "output_type": "stream",
     "text": [
      "Epoch 131/200 - Train Loss: 0.001632, Val Loss: 0.004475\n",
      "Validation loss decreased (0.004562 --> 0.004475).  Saving model ...\n"
     ]
    },
    {
     "name": "stderr",
     "output_type": "stream",
     "text": [
      "Epoch 132/200 [Train]: 100%|██████████| 27/27 [00:08<00:00,  3.32it/s, loss=0.000774]\n",
      "Epoch 132/200 [Val]: 100%|██████████| 3/3 [00:01<00:00,  2.42it/s, loss=0.00615]\n"
     ]
    },
    {
     "name": "stdout",
     "output_type": "stream",
     "text": [
      "Epoch 132/200 - Train Loss: 0.001638, Val Loss: 0.005401\n",
      "EarlyStopping counter: 1 out of 20\n"
     ]
    },
    {
     "name": "stderr",
     "output_type": "stream",
     "text": [
      "Epoch 133/200 [Train]: 100%|██████████| 27/27 [00:08<00:00,  3.30it/s, loss=0.00314]\n",
      "Epoch 133/200 [Val]: 100%|██████████| 3/3 [00:01<00:00,  2.37it/s, loss=0.00497]\n"
     ]
    },
    {
     "name": "stdout",
     "output_type": "stream",
     "text": [
      "Epoch 133/200 - Train Loss: 0.001679, Val Loss: 0.004566\n",
      "EarlyStopping counter: 2 out of 20\n"
     ]
    },
    {
     "name": "stderr",
     "output_type": "stream",
     "text": [
      "Epoch 134/200 [Train]: 100%|██████████| 27/27 [00:08<00:00,  3.27it/s, loss=0.000962]\n",
      "Epoch 134/200 [Val]: 100%|██████████| 3/3 [00:01<00:00,  2.37it/s, loss=0.00475]\n"
     ]
    },
    {
     "name": "stdout",
     "output_type": "stream",
     "text": [
      "Epoch 134/200 - Train Loss: 0.001585, Val Loss: 0.004366\n",
      "Validation loss decreased (0.004475 --> 0.004366).  Saving model ...\n"
     ]
    },
    {
     "name": "stderr",
     "output_type": "stream",
     "text": [
      "Epoch 135/200 [Train]: 100%|██████████| 27/27 [00:08<00:00,  3.29it/s, loss=0.00185]\n",
      "Epoch 135/200 [Val]: 100%|██████████| 3/3 [00:01<00:00,  2.42it/s, loss=0.0052] \n"
     ]
    },
    {
     "name": "stdout",
     "output_type": "stream",
     "text": [
      "Epoch 135/200 - Train Loss: 0.001902, Val Loss: 0.004426\n",
      "EarlyStopping counter: 1 out of 20\n"
     ]
    },
    {
     "name": "stderr",
     "output_type": "stream",
     "text": [
      "Epoch 136/200 [Train]: 100%|██████████| 27/27 [00:08<00:00,  3.30it/s, loss=0.00138] \n",
      "Epoch 136/200 [Val]: 100%|██████████| 3/3 [00:01<00:00,  2.36it/s, loss=0.00559]\n"
     ]
    },
    {
     "name": "stdout",
     "output_type": "stream",
     "text": [
      "Epoch 136/200 - Train Loss: 0.001601, Val Loss: 0.004779\n",
      "EarlyStopping counter: 2 out of 20\n"
     ]
    },
    {
     "name": "stderr",
     "output_type": "stream",
     "text": [
      "Epoch 137/200 [Train]: 100%|██████████| 27/27 [00:08<00:00,  3.29it/s, loss=0.00174] \n",
      "Epoch 137/200 [Val]: 100%|██████████| 3/3 [00:01<00:00,  2.36it/s, loss=0.00523]\n"
     ]
    },
    {
     "name": "stdout",
     "output_type": "stream",
     "text": [
      "Epoch 137/200 - Train Loss: 0.001594, Val Loss: 0.004490\n",
      "EarlyStopping counter: 3 out of 20\n"
     ]
    },
    {
     "name": "stderr",
     "output_type": "stream",
     "text": [
      "Epoch 138/200 [Train]: 100%|██████████| 27/27 [00:08<00:00,  3.23it/s, loss=0.000934]\n",
      "Epoch 138/200 [Val]: 100%|██████████| 3/3 [00:01<00:00,  2.42it/s, loss=0.00504]\n"
     ]
    },
    {
     "name": "stdout",
     "output_type": "stream",
     "text": [
      "Epoch 138/200 - Train Loss: 0.001534, Val Loss: 0.004420\n",
      "EarlyStopping counter: 4 out of 20\n"
     ]
    },
    {
     "name": "stderr",
     "output_type": "stream",
     "text": [
      "Epoch 139/200 [Train]: 100%|██████████| 27/27 [00:08<00:00,  3.31it/s, loss=0.00145] \n",
      "Epoch 139/200 [Val]: 100%|██████████| 3/3 [00:01<00:00,  2.41it/s, loss=0.00508]\n"
     ]
    },
    {
     "name": "stdout",
     "output_type": "stream",
     "text": [
      "Epoch 139/200 - Train Loss: 0.001408, Val Loss: 0.004516\n",
      "EarlyStopping counter: 5 out of 20\n"
     ]
    },
    {
     "name": "stderr",
     "output_type": "stream",
     "text": [
      "Epoch 140/200 [Train]: 100%|██████████| 27/27 [00:08<00:00,  3.30it/s, loss=0.00225] \n",
      "Epoch 140/200 [Val]: 100%|██████████| 3/3 [00:01<00:00,  2.43it/s, loss=0.00528]\n"
     ]
    },
    {
     "name": "stdout",
     "output_type": "stream",
     "text": [
      "Epoch 140/200 - Train Loss: 0.001517, Val Loss: 0.004764\n",
      "EarlyStopping counter: 6 out of 20\n"
     ]
    },
    {
     "name": "stderr",
     "output_type": "stream",
     "text": [
      "Epoch 141/200 [Train]: 100%|██████████| 27/27 [00:08<00:00,  3.32it/s, loss=0.000907]\n",
      "Epoch 141/200 [Val]: 100%|██████████| 3/3 [00:01<00:00,  2.42it/s, loss=0.00531]\n"
     ]
    },
    {
     "name": "stdout",
     "output_type": "stream",
     "text": [
      "Epoch 141/200 - Train Loss: 0.001511, Val Loss: 0.004820\n",
      "EarlyStopping counter: 7 out of 20\n"
     ]
    },
    {
     "name": "stderr",
     "output_type": "stream",
     "text": [
      "Epoch 142/200 [Train]: 100%|██████████| 27/27 [00:08<00:00,  3.28it/s, loss=0.00206] \n",
      "Epoch 142/200 [Val]: 100%|██████████| 3/3 [00:01<00:00,  2.42it/s, loss=0.00473]\n"
     ]
    },
    {
     "name": "stdout",
     "output_type": "stream",
     "text": [
      "Epoch 142/200 - Train Loss: 0.001582, Val Loss: 0.004352\n",
      "Validation loss decreased (0.004366 --> 0.004352).  Saving model ...\n"
     ]
    },
    {
     "name": "stderr",
     "output_type": "stream",
     "text": [
      "Epoch 143/200 [Train]: 100%|██████████| 27/27 [00:08<00:00,  3.27it/s, loss=0.00105]\n",
      "Epoch 143/200 [Val]: 100%|██████████| 3/3 [00:01<00:00,  2.43it/s, loss=0.00505]\n"
     ]
    },
    {
     "name": "stdout",
     "output_type": "stream",
     "text": [
      "Epoch 143/200 - Train Loss: 0.001503, Val Loss: 0.004489\n",
      "EarlyStopping counter: 1 out of 20\n"
     ]
    },
    {
     "name": "stderr",
     "output_type": "stream",
     "text": [
      "Epoch 144/200 [Train]: 100%|██████████| 27/27 [00:08<00:00,  3.29it/s, loss=0.00155] \n",
      "Epoch 144/200 [Val]: 100%|██████████| 3/3 [00:01<00:00,  2.33it/s, loss=0.00477]\n"
     ]
    },
    {
     "name": "stdout",
     "output_type": "stream",
     "text": [
      "Epoch 144/200 - Train Loss: 0.001395, Val Loss: 0.004301\n",
      "Validation loss decreased (0.004352 --> 0.004301).  Saving model ...\n"
     ]
    },
    {
     "name": "stderr",
     "output_type": "stream",
     "text": [
      "Epoch 145/200 [Train]: 100%|██████████| 27/27 [00:08<00:00,  3.29it/s, loss=0.00102] \n",
      "Epoch 145/200 [Val]: 100%|██████████| 3/3 [00:01<00:00,  2.41it/s, loss=0.00532]\n"
     ]
    },
    {
     "name": "stdout",
     "output_type": "stream",
     "text": [
      "Epoch 145/200 - Train Loss: 0.001412, Val Loss: 0.004675\n",
      "EarlyStopping counter: 1 out of 20\n"
     ]
    },
    {
     "name": "stderr",
     "output_type": "stream",
     "text": [
      "Epoch 146/200 [Train]: 100%|██████████| 27/27 [00:08<00:00,  3.27it/s, loss=0.000989]\n",
      "Epoch 146/200 [Val]: 100%|██████████| 3/3 [00:01<00:00,  2.38it/s, loss=0.00467]\n"
     ]
    },
    {
     "name": "stdout",
     "output_type": "stream",
     "text": [
      "Epoch 146/200 - Train Loss: 0.001437, Val Loss: 0.004191\n",
      "Validation loss decreased (0.004301 --> 0.004191).  Saving model ...\n"
     ]
    },
    {
     "name": "stderr",
     "output_type": "stream",
     "text": [
      "Epoch 147/200 [Train]: 100%|██████████| 27/27 [00:08<00:00,  3.28it/s, loss=0.00104] \n",
      "Epoch 147/200 [Val]: 100%|██████████| 3/3 [00:01<00:00,  2.37it/s, loss=0.00501]\n"
     ]
    },
    {
     "name": "stdout",
     "output_type": "stream",
     "text": [
      "Epoch 147/200 - Train Loss: 0.001525, Val Loss: 0.004590\n",
      "EarlyStopping counter: 1 out of 20\n"
     ]
    },
    {
     "name": "stderr",
     "output_type": "stream",
     "text": [
      "Epoch 148/200 [Train]: 100%|██████████| 27/27 [00:08<00:00,  3.31it/s, loss=0.00118] \n",
      "Epoch 148/200 [Val]: 100%|██████████| 3/3 [00:01<00:00,  2.37it/s, loss=0.005]  \n"
     ]
    },
    {
     "name": "stdout",
     "output_type": "stream",
     "text": [
      "Epoch 148/200 - Train Loss: 0.001406, Val Loss: 0.004351\n",
      "EarlyStopping counter: 2 out of 20\n"
     ]
    },
    {
     "name": "stderr",
     "output_type": "stream",
     "text": [
      "Epoch 149/200 [Train]: 100%|██████████| 27/27 [00:08<00:00,  3.25it/s, loss=0.00117] \n",
      "Epoch 149/200 [Val]: 100%|██████████| 3/3 [00:01<00:00,  2.39it/s, loss=0.00456]\n"
     ]
    },
    {
     "name": "stdout",
     "output_type": "stream",
     "text": [
      "Epoch 149/200 - Train Loss: 0.001326, Val Loss: 0.004076\n",
      "Validation loss decreased (0.004191 --> 0.004076).  Saving model ...\n"
     ]
    },
    {
     "name": "stderr",
     "output_type": "stream",
     "text": [
      "Epoch 150/200 [Train]: 100%|██████████| 27/27 [00:08<00:00,  3.24it/s, loss=0.00122] \n",
      "Epoch 150/200 [Val]: 100%|██████████| 3/3 [00:01<00:00,  2.37it/s, loss=0.00538]\n"
     ]
    },
    {
     "name": "stdout",
     "output_type": "stream",
     "text": [
      "Epoch 150/200 - Train Loss: 0.001426, Val Loss: 0.004634\n",
      "EarlyStopping counter: 1 out of 20\n"
     ]
    },
    {
     "name": "stderr",
     "output_type": "stream",
     "text": [
      "Epoch 151/200 [Train]: 100%|██████████| 27/27 [00:08<00:00,  3.30it/s, loss=0.00155] \n",
      "Epoch 151/200 [Val]: 100%|██████████| 3/3 [00:01<00:00,  2.40it/s, loss=0.0047] \n"
     ]
    },
    {
     "name": "stdout",
     "output_type": "stream",
     "text": [
      "Epoch 151/200 - Train Loss: 0.001297, Val Loss: 0.004289\n",
      "EarlyStopping counter: 2 out of 20\n"
     ]
    },
    {
     "name": "stderr",
     "output_type": "stream",
     "text": [
      "Epoch 152/200 [Train]: 100%|██████████| 27/27 [00:08<00:00,  3.28it/s, loss=0.000933]\n",
      "Epoch 152/200 [Val]: 100%|██████████| 3/3 [00:01<00:00,  2.42it/s, loss=0.00507]\n"
     ]
    },
    {
     "name": "stdout",
     "output_type": "stream",
     "text": [
      "Epoch 152/200 - Train Loss: 0.001323, Val Loss: 0.004535\n",
      "EarlyStopping counter: 3 out of 20\n"
     ]
    },
    {
     "name": "stderr",
     "output_type": "stream",
     "text": [
      "Epoch 153/200 [Train]: 100%|██████████| 27/27 [00:08<00:00,  3.21it/s, loss=0.00144] \n",
      "Epoch 153/200 [Val]: 100%|██████████| 3/3 [00:01<00:00,  2.42it/s, loss=0.00516]\n"
     ]
    },
    {
     "name": "stdout",
     "output_type": "stream",
     "text": [
      "Epoch 153/200 - Train Loss: 0.001395, Val Loss: 0.004488\n",
      "EarlyStopping counter: 4 out of 20\n"
     ]
    },
    {
     "name": "stderr",
     "output_type": "stream",
     "text": [
      "Epoch 154/200 [Train]: 100%|██████████| 27/27 [00:08<00:00,  3.32it/s, loss=0.000841]\n",
      "Epoch 154/200 [Val]: 100%|██████████| 3/3 [00:01<00:00,  2.37it/s, loss=0.00528]\n"
     ]
    },
    {
     "name": "stdout",
     "output_type": "stream",
     "text": [
      "Epoch 154/200 - Train Loss: 0.001303, Val Loss: 0.004733\n",
      "EarlyStopping counter: 5 out of 20\n"
     ]
    },
    {
     "name": "stderr",
     "output_type": "stream",
     "text": [
      "Epoch 155/200 [Train]: 100%|██████████| 27/27 [00:08<00:00,  3.29it/s, loss=0.00174] \n",
      "Epoch 155/200 [Val]: 100%|██████████| 3/3 [00:01<00:00,  2.42it/s, loss=0.0052] \n"
     ]
    },
    {
     "name": "stdout",
     "output_type": "stream",
     "text": [
      "Epoch 155/200 - Train Loss: 0.001376, Val Loss: 0.004665\n",
      "EarlyStopping counter: 6 out of 20\n"
     ]
    },
    {
     "name": "stderr",
     "output_type": "stream",
     "text": [
      "Epoch 156/200 [Train]: 100%|██████████| 27/27 [00:08<00:00,  3.31it/s, loss=0.00149] \n",
      "Epoch 156/200 [Val]: 100%|██████████| 3/3 [00:01<00:00,  2.41it/s, loss=0.00594]\n"
     ]
    },
    {
     "name": "stdout",
     "output_type": "stream",
     "text": [
      "Epoch 156/200 - Train Loss: 0.001445, Val Loss: 0.005051\n",
      "EarlyStopping counter: 7 out of 20\n"
     ]
    },
    {
     "name": "stderr",
     "output_type": "stream",
     "text": [
      "Epoch 157/200 [Train]: 100%|██████████| 27/27 [00:08<00:00,  3.32it/s, loss=0.0012]  \n",
      "Epoch 157/200 [Val]: 100%|██████████| 3/3 [00:01<00:00,  2.37it/s, loss=0.00479]\n"
     ]
    },
    {
     "name": "stdout",
     "output_type": "stream",
     "text": [
      "Epoch 157/200 - Train Loss: 0.001349, Val Loss: 0.004378\n",
      "EarlyStopping counter: 8 out of 20\n"
     ]
    },
    {
     "name": "stderr",
     "output_type": "stream",
     "text": [
      "Epoch 158/200 [Train]: 100%|██████████| 27/27 [00:08<00:00,  3.27it/s, loss=0.00242] \n",
      "Epoch 158/200 [Val]: 100%|██████████| 3/3 [00:01<00:00,  2.42it/s, loss=0.00528]\n"
     ]
    },
    {
     "name": "stdout",
     "output_type": "stream",
     "text": [
      "Epoch 158/200 - Train Loss: 0.001426, Val Loss: 0.004567\n",
      "EarlyStopping counter: 9 out of 20\n"
     ]
    },
    {
     "name": "stderr",
     "output_type": "stream",
     "text": [
      "Epoch 159/200 [Train]: 100%|██████████| 27/27 [00:08<00:00,  3.25it/s, loss=0.00211] \n",
      "Epoch 159/200 [Val]: 100%|██████████| 3/3 [00:01<00:00,  2.33it/s, loss=0.00529]\n"
     ]
    },
    {
     "name": "stdout",
     "output_type": "stream",
     "text": [
      "Epoch 159/200 - Train Loss: 0.001178, Val Loss: 0.004643\n",
      "EarlyStopping counter: 10 out of 20\n"
     ]
    },
    {
     "name": "stderr",
     "output_type": "stream",
     "text": [
      "Epoch 160/200 [Train]: 100%|██████████| 27/27 [00:08<00:00,  3.28it/s, loss=0.00131] \n",
      "Epoch 160/200 [Val]: 100%|██████████| 3/3 [00:01<00:00,  2.42it/s, loss=0.00527]\n"
     ]
    },
    {
     "name": "stdout",
     "output_type": "stream",
     "text": [
      "Epoch 160/200 - Train Loss: 0.001192, Val Loss: 0.004558\n",
      "EarlyStopping counter: 11 out of 20\n"
     ]
    },
    {
     "name": "stderr",
     "output_type": "stream",
     "text": [
      "Epoch 161/200 [Train]: 100%|██████████| 27/27 [00:08<00:00,  3.31it/s, loss=0.0016]  \n",
      "Epoch 161/200 [Val]: 100%|██████████| 3/3 [00:01<00:00,  2.37it/s, loss=0.00557]\n"
     ]
    },
    {
     "name": "stdout",
     "output_type": "stream",
     "text": [
      "Epoch 161/200 - Train Loss: 0.001335, Val Loss: 0.004910\n",
      "EarlyStopping counter: 12 out of 20\n"
     ]
    },
    {
     "name": "stderr",
     "output_type": "stream",
     "text": [
      "Epoch 162/200 [Train]: 100%|██████████| 27/27 [00:08<00:00,  3.23it/s, loss=0.00119] \n",
      "Epoch 162/200 [Val]: 100%|██████████| 3/3 [00:01<00:00,  2.42it/s, loss=0.00457]\n"
     ]
    },
    {
     "name": "stdout",
     "output_type": "stream",
     "text": [
      "Epoch 162/200 - Train Loss: 0.001456, Val Loss: 0.004312\n",
      "EarlyStopping counter: 13 out of 20\n"
     ]
    },
    {
     "name": "stderr",
     "output_type": "stream",
     "text": [
      "Epoch 163/200 [Train]: 100%|██████████| 27/27 [00:08<00:00,  3.23it/s, loss=0.00183] \n",
      "Epoch 163/200 [Val]: 100%|██████████| 3/3 [00:01<00:00,  2.42it/s, loss=0.00641]\n"
     ]
    },
    {
     "name": "stdout",
     "output_type": "stream",
     "text": [
      "Epoch 163/200 - Train Loss: 0.001487, Val Loss: 0.005330\n",
      "EarlyStopping counter: 14 out of 20\n"
     ]
    },
    {
     "name": "stderr",
     "output_type": "stream",
     "text": [
      "Epoch 164/200 [Train]: 100%|██████████| 27/27 [00:08<00:00,  3.30it/s, loss=0.00129] \n",
      "Epoch 164/200 [Val]: 100%|██████████| 3/3 [00:01<00:00,  2.42it/s, loss=0.00474]\n"
     ]
    },
    {
     "name": "stdout",
     "output_type": "stream",
     "text": [
      "Epoch 164/200 - Train Loss: 0.001364, Val Loss: 0.004131\n",
      "EarlyStopping counter: 15 out of 20\n"
     ]
    },
    {
     "name": "stderr",
     "output_type": "stream",
     "text": [
      "Epoch 165/200 [Train]: 100%|██████████| 27/27 [00:08<00:00,  3.31it/s, loss=0.00167] \n",
      "Epoch 165/200 [Val]: 100%|██████████| 3/3 [00:01<00:00,  2.39it/s, loss=0.00516]\n"
     ]
    },
    {
     "name": "stdout",
     "output_type": "stream",
     "text": [
      "Epoch 165/200 - Train Loss: 0.001285, Val Loss: 0.004521\n",
      "EarlyStopping counter: 16 out of 20\n"
     ]
    },
    {
     "name": "stderr",
     "output_type": "stream",
     "text": [
      "Epoch 166/200 [Train]: 100%|██████████| 27/27 [00:08<00:00,  3.31it/s, loss=0.000923]\n",
      "Epoch 166/200 [Val]: 100%|██████████| 3/3 [00:01<00:00,  2.38it/s, loss=0.00478]\n"
     ]
    },
    {
     "name": "stdout",
     "output_type": "stream",
     "text": [
      "Epoch 166/200 - Train Loss: 0.001335, Val Loss: 0.004180\n",
      "EarlyStopping counter: 17 out of 20\n"
     ]
    },
    {
     "name": "stderr",
     "output_type": "stream",
     "text": [
      "Epoch 167/200 [Train]: 100%|██████████| 27/27 [00:08<00:00,  3.26it/s, loss=0.000694]\n",
      "Epoch 167/200 [Val]: 100%|██████████| 3/3 [00:01<00:00,  2.39it/s, loss=0.00485]\n"
     ]
    },
    {
     "name": "stdout",
     "output_type": "stream",
     "text": [
      "Epoch 167/200 - Train Loss: 0.001189, Val Loss: 0.004290\n",
      "EarlyStopping counter: 18 out of 20\n"
     ]
    },
    {
     "name": "stderr",
     "output_type": "stream",
     "text": [
      "Epoch 168/200 [Train]: 100%|██████████| 27/27 [00:08<00:00,  3.25it/s, loss=0.00114] \n",
      "Epoch 168/200 [Val]: 100%|██████████| 3/3 [00:01<00:00,  2.38it/s, loss=0.00524]\n"
     ]
    },
    {
     "name": "stdout",
     "output_type": "stream",
     "text": [
      "Epoch 168/200 - Train Loss: 0.001417, Val Loss: 0.004574\n",
      "EarlyStopping counter: 19 out of 20\n"
     ]
    },
    {
     "name": "stderr",
     "output_type": "stream",
     "text": [
      "Epoch 169/200 [Train]: 100%|██████████| 27/27 [00:08<00:00,  3.27it/s, loss=0.00179]\n",
      "Epoch 169/200 [Val]: 100%|██████████| 3/3 [00:01<00:00,  2.35it/s, loss=0.00427]"
     ]
    },
    {
     "name": "stdout",
     "output_type": "stream",
     "text": [
      "Epoch 169/200 - Train Loss: 0.001714, Val Loss: 0.004263\n",
      "EarlyStopping counter: 20 out of 20\n",
      "Early stopping triggered after 169 epochs!\n",
      "Training completed in 1612.78 seconds\n"
     ]
    },
    {
     "name": "stderr",
     "output_type": "stream",
     "text": [
      "\n"
     ]
    }
   ],
   "source": [
    "# Create data loaders with train-test split\n",
    "train_loader, val_loader, test_loader = create_data_loaders(dataset)\n",
    "\n",
    "# Initialize model\n",
    "model = CoordinateCNN().to(device)\n",
    "\n",
    "# Define loss function and optimizer\n",
    "criterion = nn.MSELoss()\n",
    "optimizer = torch.optim.Adam(model.parameters())\n",
    "\n",
    "# Train and validate the model\n",
    "history = train_and_validate(\n",
    "    device,\n",
    "    model,\n",
    "    train_loader,\n",
    "    val_loader,\n",
    "    criterion,\n",
    "    optimizer,\n",
    "    num_epochs=200,\n",
    "    patience=20,\n",
    ")"
   ]
  },
  {
   "cell_type": "code",
   "execution_count": 3,
   "id": "53da0f43",
   "metadata": {},
   "outputs": [
    {
     "data": {
      "image/png": "[encoded data removed]",
      "text/plain": [
       "<Figure size 1000x600 with 1 Axes>"
      ]
     },
     "metadata": {},
     "output_type": "display_data"
    },
    {
     "name": "stderr",
     "output_type": "stream",
     "text": [
      "Testing: 100%|██████████| 8/8 [00:02<00:00,  3.20it/s, loss=0.00204]"
     ]
    },
    {
     "name": "stdout",
     "output_type": "stream",
     "text": [
      "Test Loss: 0.004254\n",
      "Training completed!\n",
      "Best validation loss: 0.004076\n",
      "Final test loss: 0.004254\n"
     ]
    },
    {
     "name": "stderr",
     "output_type": "stream",
     "text": [
      "\n"
     ]
    }
   ],
   "source": [
    "# Plot training history\n",
    "plot_training_history(history)\n",
    "\n",
    "# Evaluate on test set\n",
    "test_loss = evaluate_model(device, model, test_loader, criterion)\n",
    "\n",
    "print(\"Training completed!\")\n",
    "print(f\"Best validation loss: {min(history['val_loss']):.6f}\")\n",
    "print(f\"Final test loss: {test_loss:.6f}\")"
   ]
  }
 ],
 "metadata": {
  "kernelspec": {
   "display_name": "Python 3",
   "language": "python",
   "name": "python3"
  },
  "language_info": {
   "codemirror_mode": {
    "name": "ipython",
    "version": 3
   },
   "file_extension": ".py",
   "mimetype": "text/x-python",
   "name": "python",
   "nbconvert_exporter": "python",
   "pygments_lexer": "ipython3",
   "version": "3.12.9"
  }
 },
 "nbformat": 4,
 "nbformat_minor": 5
}
