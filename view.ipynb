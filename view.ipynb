{
 "cells": [
  {
   "cell_type": "code",
   "execution_count": null,
   "id": "d61bf519",
   "metadata": {},
   "outputs": [],
   "source": [
    "import torch\n",
    "from torchvision import transforms\n",
    "\n",
    "from _models import CoordinateCNN, CoordinateDataset, visualize_prediction\n",
    "from _parameters import img_dir, label_dir, model_path\n",
    "\n",
    "# Check if GPU is available\n",
    "device = torch.device(\"cuda:0\" if torch.cuda.is_available() else \"cpu\")\n",
    "\n",
    "model: CoordinateCNN = CoordinateCNN().to(device)\n",
    "\n",
    "model.load_state_dict(torch.load(model_path, weights_only=True))\n",
    "\n",
    "\n",
    "# Define transformations (without normalization for images)\n",
    "transform: transforms.Compose = transforms.Compose(\n",
    "    [\n",
    "        transforms.Resize((256, 256)),\n",
    "        transforms.ToTensor(),\n",
    "    ]\n",
    ")"
   ]
  },
  {
   "cell_type": "code",
   "execution_count": null,
   "id": "f19a2276",
   "metadata": {},
   "outputs": [],
   "source": [
    "imageId: str = \"000000002\"\n",
    "\n",
    "coords: torch.Tensor = CoordinateDataset.load_coordinates(f\"{label_dir}/{imageId}.txt\")\n",
    "\n",
    "visualize_prediction(f\"{img_dir}/{imageId}.png\", model, transform, coords)"
   ]
  },
  {
   "cell_type": "code",
   "execution_count": null,
   "id": "a83cd166",
   "metadata": {},
   "outputs": [],
   "source": [
    "testImage: str = \"IMG_8208.jpg\"\n",
    "\n",
    "visualize_prediction(f\"testImages/images/{testImage}\", model, transform)"
   ]
  }
 ],
 "metadata": {
  "kernelspec": {
   "display_name": "Python 3",
   "language": "python",
   "name": "python3"
  },
  "language_info": {
   "codemirror_mode": {
    "name": "ipython",
    "version": 3
   },
   "file_extension": ".py",
   "mimetype": "text/x-python",
   "name": "python",
   "nbconvert_exporter": "python",
   "pygments_lexer": "ipython3",
   "version": "3.12.9"
  }
 },
 "nbformat": 4,
 "nbformat_minor": 5
}
