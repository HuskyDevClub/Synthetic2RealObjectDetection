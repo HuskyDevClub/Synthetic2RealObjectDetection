{
 "cells": [
  {
   "cell_type": "code",
   "execution_count": null,
   "id": "d61bf519",
   "metadata": {},
   "outputs": [],
   "source": [
    "import torch\n",
    "from torchvision import transforms\n",
    "\n",
    "from _models import CoordinateCNN, CoordinateDataset, visualize_prediction\n",
    "\n",
    "# Check if GPU is available\n",
    "device = torch.device(\"cuda:0\" if torch.cuda.is_available() else \"cpu\")\n",
    "\n",
    "model: CoordinateCNN = CoordinateCNN().to(device)\n",
    "\n",
    "model.load_state_dict(torch.load(\"./checkpoint.pt\", weights_only=True))\n",
    "\n",
    "# Define transformations (without normalization for images)\n",
    "transform: transforms.Compose = transforms.Compose(\n",
    "    [\n",
    "        transforms.Resize((256, 256)),\n",
    "        transforms.ToTensor(),\n",
    "    ]\n",
    ")"
   ]
  },
  {
   "cell_type": "code",
   "execution_count": null,
   "id": "f19a2276",
   "metadata": {},
   "outputs": [],
   "source": [
    "imageId: str = \"000000005\"\n",
    "\n",
    "coords: torch.Tensor = CoordinateDataset.load_coordinates(\n",
    "    f\"train/base/labels/{imageId}.txt\"\n",
    ")\n",
    "\n",
    "visualize_prediction(f\"train/base/images/{imageId}.png\", model, transform, coords)"
   ]
  },
  {
   "cell_type": "code",
   "execution_count": null,
   "id": "a83cd166",
   "metadata": {},
   "outputs": [],
   "source": [
    "testImage: str = \"000000000.png\"\n",
    "\n",
    "visualize_prediction(f\"val/images/{testImage}\", model, transform)"
   ]
  },
  {
   "cell_type": "code",
   "execution_count": null,
   "id": "c7438c5d",
   "metadata": {},
   "outputs": [],
   "source": [
    "coords: torch.Tensor = CoordinateDataset.load_coordinates(\n",
    "    f\"annotated_real_data/labels/IMG_9662_png.rf.91005e96f5b11af40c6171b9e495ce5d.txt\"\n",
    ")\n",
    "visualize_prediction(\n",
    "    f\"annotated_real_data/images/IMG_9662_png.rf.91005e96f5b11af40c6171b9e495ce5d.jpg\",\n",
    "    model,\n",
    "    transform,\n",
    "    coords,\n",
    ")"
   ]
  }
 ],
 "metadata": {
  "kernelspec": {
   "display_name": "Python 3",
   "language": "python",
   "name": "python3"
  },
  "language_info": {
   "codemirror_mode": {
    "name": "ipython",
    "version": 3
   },
   "file_extension": ".py",
   "mimetype": "text/x-python",
   "name": "python",
   "nbconvert_exporter": "python",
   "pygments_lexer": "ipython3",
   "version": "3.12.9"
  }
 },
 "nbformat": 4,
 "nbformat_minor": 5
}
